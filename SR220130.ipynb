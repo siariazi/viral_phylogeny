{
 "cells": [
  {
   "cell_type": "markdown",
   "id": "9fb60311-3d8f-4233-948c-0a8ace438a85",
   "metadata": {},
   "source": [
    "Report 220130:\n",
    "\n",
    "Section A: The first task is generating a tree in python. There are different packages in python able to generate a random tree. I found Toytree, ETE3, DendroPy and Ngesh capable of generating a tree. \n",
    "\n",
    "Toytree is able to generate a tree given its Newick information. "
   ]
  },
  {
   "cell_type": "code",
   "execution_count": 1,
   "id": "bf244490-339d-4d4a-a07f-9975b35e6056",
   "metadata": {},
   "outputs": [
    {
     "name": "stdout",
     "output_type": "stream",
     "text": [
      "\n",
      "      /-a\n",
      "   /-|\n",
      "  |   \\-b\n",
      "--|\n",
      "  |   /-c\n",
      "   \\-|\n",
      "     |   /-d\n",
      "      \\-|\n",
      "         \\-e\n"
     ]
    }
   ],
   "source": [
    "# package toytree\n",
    "import toytree\n",
    "\n",
    "# printing given trees in Newick format using toytree\n",
    "newick = \"((a:1,b:1)90:3,(c:3,(d:1, e:1)100:2)100:1)100;\"\n",
    "toyTree = toytree.tree(newick, tree_format=0)\n",
    "print(toyTree)"
   ]
  },
  {
   "cell_type": "markdown",
   "id": "6018fad0-c07c-4f35-b8f8-49ed6fc6108e",
   "metadata": {},
   "source": [
    "Ete3 toolkit can make a tree given its Newick information, here are examples of two different trees:"
   ]
  },
  {
   "cell_type": "code",
   "execution_count": 2,
   "id": "d2500b28-ea1c-4b56-ab71-d0d6f3b724ee",
   "metadata": {},
   "outputs": [
    {
     "name": "stdout",
     "output_type": "stream",
     "text": [
      "\n",
      "   /-A\n",
      "--|\n",
      "  |   /-B\n",
      "   \\-|\n",
      "     |   /-E\n",
      "      \\-|\n",
      "         \\-D\n",
      "\n",
      "            /-H\n",
      "         /-|\n",
      "        |   \\-K\n",
      "      /-|\n",
      "     |  |   /-F\n",
      "   /-|   \\-|\n",
      "  |  |      \\-I\n",
      "  |  |\n",
      "  |   \\-E\n",
      "--|\n",
      "  |      /-L\n",
      "  |   /-|\n",
      "  |  |  |   /-N\n",
      "  |  |   \\-|\n",
      "   \\-|      \\-Q\n",
      "     |\n",
      "     |   /-P\n",
      "      \\-|\n",
      "         \\-S\n"
     ]
    }
   ],
   "source": [
    "# package ete3\n",
    "from ete3 import Tree\n",
    "\n",
    "# printing given trees in Newick format using ete3\n",
    "eteTree1 = Tree(\"(A:1,(B:1,(E:1,D:1):0.5):0.5);\" )\n",
    "print(eteTree1)\n",
    "\n",
    "eteTree2 = Tree('((((H,K)D,(F,I)G)B,E)A,((L,(N,Q)O)J,(P,S)M)C);', format=1)\n",
    "print(eteTree2)"
   ]
  },
  {
   "cell_type": "markdown",
   "id": "427c401a-ed22-4fe1-90db-14a8df634e73",
   "metadata": {},
   "source": [
    "Ete3 package is able to generate a random tree given the number of leaves:"
   ]
  },
  {
   "cell_type": "code",
   "execution_count": 3,
   "id": "fe8e07b4-865e-410b-808b-0dac0f67811f",
   "metadata": {},
   "outputs": [
    {
     "name": "stdout",
     "output_type": "stream",
     "text": [
      "\n",
      "            /-aaaaaaaaaj\n",
      "         /-|\n",
      "        |   \\-aaaaaaaaak\n",
      "      /-|\n",
      "     |  |   /-aaaaaaaaal\n",
      "     |   \\-|\n",
      "     |      \\-aaaaaaaaam\n",
      "   /-|\n",
      "  |  |      /-aaaaaaaaan\n",
      "  |  |   /-|\n",
      "  |  |  |   \\-aaaaaaaaao\n",
      "  |   \\-|\n",
      "  |     |   /-aaaaaaaaaa\n",
      "  |      \\-|\n",
      "--|         \\-aaaaaaaaab\n",
      "  |\n",
      "  |      /-aaaaaaaaac\n",
      "  |   /-|\n",
      "  |  |  |   /-aaaaaaaaad\n",
      "  |  |   \\-|\n",
      "  |  |     |   /-aaaaaaaaae\n",
      "  |  |      \\-|\n",
      "   \\-|        |   /-aaaaaaaaaf\n",
      "     |         \\-|\n",
      "     |            \\-aaaaaaaaag\n",
      "     |\n",
      "     |   /-aaaaaaaaah\n",
      "      \\-|\n",
      "         \\-aaaaaaaaai\n"
     ]
    }
   ],
   "source": [
    "# generating a random tree with 15 leaves using ete3\n",
    "eteTree3 = Tree()\n",
    "eteTree3.populate(15)\n",
    "print(eteTree3)"
   ]
  },
  {
   "cell_type": "markdown",
   "id": "eb8468f1-b83d-4f62-9d9a-1dc7fb0a17cf",
   "metadata": {},
   "source": [
    "A very comprehensive package to generate a random tree is Dendropy:"
   ]
  },
  {
   "cell_type": "code",
   "execution_count": 12,
   "id": "d5f01ce7-3ab3-49ce-aab9-8c26df84b29c",
   "metadata": {},
   "outputs": [
    {
     "name": "stdout",
     "output_type": "stream",
     "text": [
      "                                                        /------------------ T1\n",
      "                                     /------------------+                     \n",
      "                  /------------------+                  \\------------------ T5\n",
      "                  |                  |                                        \n",
      "/-----------------+                  \\------------------------------------- T3\n",
      "|                 |                                                           \n",
      "+                 \\-------------------------------------------------------- T2\n",
      "|                                                                             \n",
      "\\-------------------------------------------------------------------------- T4\n",
      "                                                                              \n",
      "                                                                              \n"
     ]
    }
   ],
   "source": [
    "# generating a death birth-death tree using dendropy with 5 extant tips\n",
    "from dendropy.simulate import treesim\n",
    "denTree = treesim.birth_death_tree(birth_rate=1.0, death_rate=0.5, num_extant_tips=5)\n",
    "denTree.print_plot()"
   ]
  },
  {
   "cell_type": "markdown",
   "id": "a35d2d7a-2a09-40c5-960f-b909ed56e935",
   "metadata": {},
   "source": [
    "Another comprehensive python package used in phyologenetics is ngesh:"
   ]
  },
  {
   "cell_type": "code",
   "execution_count": null,
   "id": "6e4c40fd-6f6c-403b-990f-39ddb0838125",
   "metadata": {},
   "outputs": [
    {
     "name": "stdout",
     "output_type": "stream",
     "text": [
      "\n",
      "      /-L1\n",
      "   /-|\n",
      "  |   \\-L2\n",
      "--|\n",
      "  |      /-L3\n",
      "  |   /-|\n",
      "   \\-|   \\-L4\n",
      "     |\n",
      "      \\-L5\n",
      "\n",
      "                     /-L01\n",
      "                  /-|\n",
      "                 |   \\-L02\n",
      "                 |\n",
      "                 |            /-L03\n",
      "                 |         /-|\n",
      "               /-|      /-|   \\-L04\n",
      "              |  |     |  |\n",
      "              |  |   /-|   \\-L05\n",
      "              |  |  |  |\n",
      "              |  |  |  |   /-L06\n",
      "            /-|   \\-|   \\-|\n",
      "           |  |     |      \\-L07\n",
      "           |  |     |\n",
      "         /-|  |      \\-L08\n",
      "        |  |  |\n",
      "        |  |   \\-L09\n",
      "        |  |\n",
      "      /-|   \\-L10\n",
      "     |  |\n",
      "     |  |      /-L11\n",
      "     |  |   /-|\n",
      "     |  |  |   \\-L12\n",
      "     |   \\-|\n",
      "   /-|     |   /-L13\n",
      "  |  |      \\-|\n",
      "  |  |        |   /-L14\n",
      "  |  |         \\-|\n",
      "  |  |            \\-L15\n",
      "--|  |\n",
      "  |  |   /-L16\n",
      "  |   \\-|\n",
      "  |      \\-L17\n",
      "  |\n",
      "   \\-L18\n"
     ]
    }
   ],
   "source": [
    "# package ngesh \n",
    "import ngesh \n",
    "\n",
    "# generatin a random tree using ngesh \n",
    "ngeshTree1 = ngesh.gen_tree(min_leaves=5)\n",
    "print(ngeshTree1)\n",
    "\n",
    "# generating a radnom tree with specified birth and death parameters \n",
    "tree1 = ngesh.gen_tree(birth=1.0,death=0.5,max_time=6.0)\n",
    "print(tree1)"
   ]
  },
  {
   "cell_type": "markdown",
   "id": "93edd7b1-33be-452c-a148-21e6df330f82",
   "metadata": {},
   "source": [
    "Section B: Simulating a simple SIR dynamic in python:\n",
    "I used odeint() function to do the numerical integration as a part of the scipy package. The result was very close to the desolve() package in R. For our simple SIR model:\n",
    "\n",
    "dS/dt = -beta*S*I\n",
    "dI/dt = beta*S*I - gamma*I\n",
    "dR/dt = gamma*I\n",
    "\n",
    "My initial condition were: S= 1000, I =2, R=0\n",
    "with given parameters: beta=1e-3, gamma = 1.4e-1\n",
    "I just played with the parameters to make them look like an epidemy: "
   ]
  },
  {
   "cell_type": "code",
   "execution_count": 16,
   "id": "b62a4e6e-dc73-48ba-9481-49496f87e92f",
   "metadata": {},
   "outputs": [
    {
     "data": {
      "image/png": "[encoded data removed]",
      "text/plain": [
       "<Figure size 432x288 with 1 Axes>"
      ]
     },
     "metadata": {
      "needs_background": "light"
     },
     "output_type": "display_data"
    }
   ],
   "source": [
    "import numpy as np\n",
    "from scipy.integrate import odeint\n",
    "import matplotlib.pyplot as plt\n",
    "\n",
    "# assigning the parameters\n",
    "beta=1e-3\n",
    "gamma=1.4e-1\n",
    "# function that returns dY as the result of system of ODE's\n",
    "def SIR(state,t,beta,gamma):\n",
    "    S, I, R = state\n",
    "    dS = -beta*S*I\n",
    "    dI = beta*S*I - gamma*I\n",
    "    dR = gamma*I\n",
    "    dY = [dS,dI,dR]\n",
    "    return dY\n",
    "\n",
    "# initial condition\n",
    "Y0 = [1000,2,0]\n",
    "\n",
    "# time points\n",
    "t = np.linspace(0,70)\n",
    "\n",
    "# passing parameters to the odeint() function\n",
    "p = (beta, gamma)\n",
    "\n",
    "# solve ODE\n",
    "Y = odeint(SIR,Y0,t,p)\n",
    "\n",
    "# plot results\n",
    "plt.plot(t,Y[:,0],label='S')\n",
    "plt.plot(t,Y[:,1],label='I')\n",
    "plt.plot(t,Y[:,2],label='R')\n",
    "plt.ylabel('population')\n",
    "plt.xlabel('time')\n",
    "plt.legend(loc='best')\n",
    "plt.show()\n"
   ]
  },
  {
   "cell_type": "markdown",
   "id": "7338e109-1e71-4383-835c-aa03dcfc0d6d",
   "metadata": {},
   "source": [
    "Now, the challenge is fitting a tree to a SIR data. "
   ]
  }
 ],
 "metadata": {
  "kernelspec": {
   "display_name": "Python 3 (ipykernel)",
   "language": "python",
   "name": "python3"
  },
  "language_info": {
   "codemirror_mode": {
    "name": "ipython",
    "version": 3
   },
   "file_extension": ".py",
   "mimetype": "text/x-python",
   "name": "python",
   "nbconvert_exporter": "python",
   "pygments_lexer": "ipython3",
   "version": "3.9.7"
  }
 },
 "nbformat": 4,
 "nbformat_minor": 5
}
