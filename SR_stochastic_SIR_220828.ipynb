{
 "cells": [
  {
   "cell_type": "markdown",
   "id": "9687e5d5-189d-4239-82b4-25fdfa099a70",
   "metadata": {},
   "source": [
    "This script simulates a stochastic SIR model, constructs the shared ancestry matrix from the simulation. Auxiliary functions are included to convert the shared ancestry matrix to Newick format. Likelihood is calculated given the procedure explained in the paper (MacPherson et al. 2021, DOI:DOI:10.1093/sysbio/syab049). Finally Likelihood surface is explored with varying beta and gamma parameters.  "
   ]
  },
  {
   "cell_type": "markdown",
   "id": "d0c1d9cd-afa7-45bf-aaae-b47a8463c2f5",
   "metadata": {},
   "source": [
    "The first function is dist_calc() which is called in the Gillespie algoirthm. This function updates the shared ancestry matrix whenever is called. Printing lines at the end of the function should be commented out when running Gillespie. "
   ]
  },
  {
   "cell_type": "code",
   "execution_count": 62,
   "id": "606b4da5-a5d8-4400-8b13-fd177b147727",
   "metadata": {},
   "outputs": [],
   "source": [
    "# a function that updates the shared ancestry matrix\n",
    "# varaibles are defined global, the function doesn't have a return value\n",
    "# e is argument of the function and it shows the event order in Gillespie:\n",
    "# 1 is infection of susceptible, 2 recovery, 3 sampling\n",
    "# dist is the shared ancestry matrix\n",
    "# child is a list that keeps the lablel of individuals in the population\n",
    "# diagonal is a variable that keeps the last diagonal element of the matrix, we add this variable to the end of the matrix when branching event happens\n",
    "# sampled is a list that keeps the lablel of sampled individuals in the population; so we don't branch or sampled from those \n",
    "# tau is the time drawn in the Gillespie algorithm\n",
    "import numpy as np\n",
    "import random\n",
    "def dist_calc(e):   \n",
    "    global dist, child, diagonal, sampled, tau\n",
    "    # branch is a varible that is chosen from susceptible individuals. Before getting into the process branch doesn't have any value\n",
    "    branch = None\n",
    "    # first event: infection of susceptible \n",
    "    if e == 1:\n",
    "        if child[-1] == 0:\n",
    "            dist.append(tau)\n",
    "        elif child[-1] == 1:\n",
    "            diagonal = dist[0]+tau\n",
    "            dist = [[dist[0]+tau,dist[0]],[dist[0],dist[0]+tau]]\n",
    "        elif child[-1] > 1:\n",
    "            # choosing one of the branches randomly (parent)\n",
    "            # last child in the list is a progeny and should not be a parent branch so child -1 \n",
    "            branch = random.choice(list(set(child[:-1])-set().union(recovered, sampled)))\n",
    "            # adding column of branch to the end of the matrix         \n",
    "            for j in range(child[-1]):\n",
    "                dist[j].append(dist[j][branch])\n",
    "            # adding row of the branch to the end matrix \n",
    "            # last row is all elements of the branch row except its last element\n",
    "            last_row =  dist[branch][slice(0,child[-1])]\n",
    "            diagonal += tau\n",
    "            # here I add diagonal element to the last row\n",
    "            last_row.append(diagonal)\n",
    "            # adding last row to the matrix\n",
    "            dist.append(last_row) \n",
    "            # add delta t to diagonal of dist for those who have not been sampled\n",
    "            # the purpose of -1 is to exclude the last element because it already has the +tau\n",
    "            for i in range(child[-1]):\n",
    "                if i not in sampled and i not in recovered:\n",
    "                   dist[i][i] = dist[i][i] + tau\n",
    "    # adding tau to diagonal of individuals who have not been recovered or not sampled\n",
    "    # this part exectues in case of recovery and sampling \n",
    "    else:\n",
    "        for i in range(child[-1]):\n",
    "            if i not in sampled and i not in recovered:\n",
    "               dist[i][i] = dist[i][i] + tau\n",
    "    \n",
    "    #printing lines for checking, should be commented in case of running a large simulation\n",
    "    \n",
    "    #print(\"sampled is: \",sampled)\n",
    "    #print(\"recovered is: \",recovered)\n",
    "    #print(\"branch is: \",branch)\n",
    "    #print(\"tau is: \",tau)\n",
    "    #print(\"current dist is:\\n\",np.array(dist)) "
   ]
  },
  {
   "cell_type": "markdown",
   "id": "740c0ace-6591-4802-9e57-9fc07cb49918",
   "metadata": {},
   "source": [
    "This function executes in Gillespie but to check how the function works let's assign some values and see what happens:"
   ]
  },
  {
   "cell_type": "code",
   "execution_count": 63,
   "id": "b296aa5b-a410-4621-bba3-9075aac11ccd",
   "metadata": {},
   "outputs": [
    {
     "name": "stdout",
     "output_type": "stream",
     "text": [
      "fnal dist is:\n",
      " [0.1]\n",
      "final dist is:\n",
      " [[0.3 0.1]\n",
      " [0.1 0.3]]\n",
      "final dist is:\n",
      " [[0.35 0.1  0.3 ]\n",
      " [0.1  0.35 0.1 ]\n",
      " [0.3  0.1  0.35]]\n"
     ]
    }
   ],
   "source": [
    "# example of a run:\n",
    "dist = [] # distance matrix\n",
    "child = [] # a list to keep the index of children, I don't remove any element from this list, so it's in order\n",
    "sampled = [] # a list to keep the sampled indivduals \n",
    "recovered = [] # a list to keep the recovered individuals \n",
    "diagonal = 0 # a list to keep the diagonal elements of the distance matrix\n",
    "\n",
    "# adding the child happens in Gillespie before calling the dist_calc(), let's say we added one:\n",
    "child = [0]\n",
    "# adding tau happens in Gillespie, here I assign a number to show how the function works\n",
    "tau = 0.1\n",
    "# calling the dist_calc()\n",
    "dist_calc(1)\n",
    "print(\"fnal dist is:\\n\",np.array(dist))\n",
    "\n",
    "child = [0,1]\n",
    "tau = 0.2\n",
    "dist_calc(1)\n",
    "print(\"final dist is:\\n\",np.array(dist))\n",
    "\n",
    "# from this part branching happens \n",
    "child = [0,1,2]\n",
    "tau = 0.05\n",
    "dist_calc(1)\n",
    "print(\"final dist is:\\n\",np.array(dist))\n"
   ]
  },
  {
   "cell_type": "markdown",
   "id": "c17888a0-cc10-46e9-b868-e225cfdc6a2e",
   "metadata": {},
   "source": [
    "Now, let's say individual 0 is sampled and individual 2 is recovered:"
   ]
  },
  {
   "cell_type": "code",
   "execution_count": 64,
   "id": "458f98ab-56c3-43e4-9e4a-7fc2a07556c0",
   "metadata": {},
   "outputs": [
    {
     "name": "stdout",
     "output_type": "stream",
     "text": [
      "final dist is:\n",
      " [[0.35 0.1  0.3  0.1 ]\n",
      " [0.1  0.75 0.1  0.35]\n",
      " [0.3  0.1  0.35 0.1 ]\n",
      " [0.1  0.35 0.1  0.75]]\n"
     ]
    }
   ],
   "source": [
    "# from this part branching happens \n",
    "child = [0,1,2,3]\n",
    "tau = 0.4\n",
    "sampled = [0]\n",
    "recovered = [2]\n",
    "dist_calc(1)\n",
    "print(\"final dist is:\\n\",np.array(dist))"
   ]
  },
  {
   "cell_type": "markdown",
   "id": "f8026024-8109-4b1e-a6d3-2b8d95dacee2",
   "metadata": {},
   "source": [
    "Second function which is core of the simualtion is Gillespie alogrithm. The function simulates a stochstic SIR epdimic and call the dist_calc() funtion. I adopted the function from a very useful video on Youtube called: Python Gillespie Algorithm: Chemical Reaction Example (link: https://www.youtube.com/watch?v=VL5ki-II20o)"
   ]
  },
  {
   "cell_type": "code",
   "execution_count": 65,
   "id": "93fade1f-9e42-4d38-bae4-1ddd93d10b49",
   "metadata": {},
   "outputs": [],
   "source": [
    "# Gillespie simulation\n",
    "# all of the variables are defined global \n",
    "def gillespie():\n",
    "    global t,beta,gamma,psi,S,I,R,child,recovered,sampled,tau\n",
    "    # main loop to do the gillespie  \n",
    "    while t[-1] < tend: # the loop iterates until it reaches the last time point\n",
    "        \n",
    "            # propensities (rates)\n",
    "            props = [beta * S[-1] * I[-1] , gamma * I[-1], psi*I[-1]] \n",
    "            # sum of propensities\n",
    "            prop_sum = sum(props)\n",
    "            if prop_sum == 0:\n",
    "                    break\n",
    "            # drawing a tau time from an exponential distribution \n",
    "            tau = round(np.random.exponential(scale=1/prop_sum),3)\n",
    "            # updating time list \n",
    "            t.append(t[-1] + tau)\n",
    "            # drawing a ranodom number from a unifrom dist.\n",
    "            rand = random.uniform(0,1)\n",
    "              \n",
    "            # the first event is infection of a susceptible \n",
    "            if rand * prop_sum <= props[0]:\n",
    "                \n",
    "                    S.append(S[-1] - 1) # updating S\n",
    "                    I.append(I[-1] + 1) # updating I\n",
    "                    # check if child vector is empty\n",
    "                    if not child:\n",
    "                        child.append(0)\n",
    "                    else:\n",
    "                        child.append(child[-1] + 1) # adding +1th child to the child list\n",
    "                    dist_calc(1) # calling the dist_calc() updates the distance matrix                    \n",
    "                    R.append(R[-1]) # updating R\n",
    "                    \n",
    "            # second event is recovery of an infected \n",
    "            elif rand * prop_sum > props[0] and rand * prop_sum <= props[0] + props[1] and rand * prop_sum < props[1] + props[2]:\n",
    "\n",
    "                    S.append(S[-1])  \n",
    "                    R_ind = random.choice(list(set(child) - set().union(recovered, sampled)))\n",
    "                    recovered.append(R_ind)\n",
    "                    I.append(I[-1] - 1)\n",
    "                    R.append(R[-1] + 1)\n",
    "                    dist_calc(2)\n",
    "                    \n",
    "            # third event is sampling of an infected\n",
    "            elif rand * prop_sum >  props [1] and rand * prop_sum <= props[0] + props[1] + props[2]:\n",
    "         \n",
    "                    S.append(S[-1])  \n",
    "                    Samp_ind = random.choice(list(set(child) - set().union(recovered, sampled)))\n",
    "                    sampled.append(Samp_ind) # adding the sampled individual to the sampled list\n",
    "                    I.append(I[-1] - 1)\n",
    "                    R.append(R[-1] + 1)\n",
    "                    dist_calc(3)"
   ]
  },
  {
   "cell_type": "markdown",
   "id": "95e605db-9337-4471-84d8-9f1422e279b3",
   "metadata": {},
   "source": [
    "Now let's initialize variables and run the simulation, before running this block comment out the printing lines in dist_calc(), otherwise you will see a large unnecessary output!"
   ]
  },
  {
   "cell_type": "code",
   "execution_count": 66,
   "id": "9df31c87-5b51-4514-8ae3-0a77596dd7c8",
   "metadata": {},
   "outputs": [
    {
     "name": "stdout",
     "output_type": "stream",
     "text": [
      "dist before trimming:\n",
      " [[ 7.568  1.781  1.781  1.781  2.804  1.781  1.781  2.804  1.781  4.448\n",
      "   2.804  1.781  1.781  2.804  4.448  1.781  2.804  5.987  1.781  1.781]\n",
      " [ 1.781  2.161  1.902  1.902  1.781  1.902  1.902  1.781  1.902  1.781\n",
      "   1.781  1.902  1.902  1.781  1.781  1.902  1.781  1.781  1.902  1.902]\n",
      " [ 1.781  1.902  3.19   2.161  1.781  2.868  2.868  1.781  2.868  1.781\n",
      "   1.781  2.868  2.868  1.781  1.781  2.868  1.781  1.781  2.868  2.868]\n",
      " [ 1.781  1.902  2.161  2.319  1.781  2.161  2.161  1.781  2.161  1.781\n",
      "   1.781  2.161  2.161  1.781  1.781  2.161  1.781  1.781  2.161  2.161]\n",
      " [ 2.804  1.781  1.781  1.781  4.801  1.781  1.781  3.426  1.781  2.804\n",
      "   3.426  1.781  1.781  4.542  2.804  1.781  3.426  2.804  1.781  1.781]\n",
      " [ 1.781  1.902  2.868  2.161  1.781  4.761  2.717  1.781  3.465  1.781\n",
      "   1.781  2.717  2.717  1.781  1.781  2.717  1.781  1.781  2.717  2.717]\n",
      " [ 1.781  1.902  2.868  2.161  1.781  2.717 11.05   1.781  2.717  1.781\n",
      "   1.781  3.95   3.95   1.781  1.781  4.609  1.781  1.781  4.609  4.609]\n",
      " [ 2.804  1.781  1.781  1.781  3.426  1.781  1.781  5.871  1.781  2.804\n",
      "   3.837  1.781  1.781  3.426  2.804  1.781  4.731  2.804  1.781  1.781]\n",
      " [ 1.781  1.902  2.868  2.161  1.781  3.465  2.717  1.781 11.05   1.781\n",
      "   1.781  2.717  2.717  1.781  1.781  2.717  1.781  1.781  2.717  2.717]\n",
      " [ 4.448  1.781  1.781  1.781  2.804  1.781  1.781  2.804  1.781 11.05\n",
      "   2.804  1.781  1.781  2.804  4.34   1.781  2.804  4.448  1.781  1.781]\n",
      " [ 2.804  1.781  1.781  1.781  3.426  1.781  1.781  3.837  1.781  2.804\n",
      "   5.092  1.781  1.781  3.426  2.804  1.781  3.837  2.804  1.781  1.781]\n",
      " [ 1.781  1.902  2.868  2.161  1.781  2.717  3.95   1.781  2.717  1.781\n",
      "   1.781  5.013  4.026  1.781  1.781  3.95   1.781  1.781  3.95   3.95 ]\n",
      " [ 1.781  1.902  2.868  2.161  1.781  2.717  3.95   1.781  2.717  1.781\n",
      "   1.781  4.026  6.222  1.781  1.781  3.95   1.781  1.781  3.95   3.95 ]\n",
      " [ 2.804  1.781  1.781  1.781  4.542  1.781  1.781  3.426  1.781  2.804\n",
      "   3.426  1.781  1.781  5.352  2.804  1.781  3.426  2.804  1.781  1.781]\n",
      " [ 4.448  1.781  1.781  1.781  2.804  1.781  1.781  2.804  1.781  4.34\n",
      "   2.804  1.781  1.781  2.804 11.039  1.781  2.804  4.448  1.781  1.781]\n",
      " [ 1.781  1.902  2.868  2.161  1.781  2.717  4.609  1.781  2.717  1.781\n",
      "   1.781  3.95   3.95   1.781  1.781 11.039  1.781  1.781  5.357  5.357]\n",
      " [ 2.804  1.781  1.781  1.781  3.426  1.781  1.781  4.731  1.781  2.804\n",
      "   3.837  1.781  1.781  3.426  2.804  1.781 10.501  2.804  1.781  1.781]\n",
      " [ 5.987  1.781  1.781  1.781  2.804  1.781  1.781  2.804  1.781  4.448\n",
      "   2.804  1.781  1.781  2.804  4.448  1.781  2.804  6.231  1.781  1.781]\n",
      " [ 1.781  1.902  2.868  2.161  1.781  2.717  4.609  1.781  2.717  1.781\n",
      "   1.781  3.95   3.95   1.781  1.781  5.357  1.781  1.781  9.827  5.306]\n",
      " [ 1.781  1.902  2.868  2.161  1.781  2.717  4.609  1.781  2.717  1.781\n",
      "   1.781  3.95   3.95   1.781  1.781  5.357  1.781  1.781  5.306  5.573]]\n"
     ]
    }
   ],
   "source": [
    "S0 = 20 # initial value of S\n",
    "I0 = 1 # initial value of I\n",
    "R0 = 0 # initial value of R\n",
    "E0 = 1\n",
    "\n",
    "S = [S0] # this list keeps the S number in each update \n",
    "I = [I0] # this list keeps the I number in each update\n",
    "R = [R0] # this list keeps the R number in each update\n",
    "\n",
    "dist = [] # distance matrix\n",
    "\n",
    "child = [] # a list to keep the index (label) of children (infected individuals), \n",
    "            #I don't remove any element from this list, so it's in order\n",
    "sampled = [] # a list to keep the sampled indivduals \n",
    "recovered = [] # a list to keep the recovered individuals \n",
    "diagonal = 0 # a list to keep the diagonal elements of the distance matrix\n",
    "\n",
    "t = [0] # a list to keep the time\n",
    "\n",
    "tend = 8 # last time point\n",
    "\n",
    "# parameteres:\n",
    "beta=0.07 \n",
    "gamma=0.02\n",
    "psi = 0.07\n",
    "\n",
    "# calling the gillespie algorithm\n",
    "gillespie()\n",
    "                \n",
    "dist_array_all = np.array(dist)\n",
    "print(\"dist before trimming:\\n\",dist_array_all)"
   ]
  },
  {
   "cell_type": "markdown",
   "id": "0d4c6210-7c4e-4042-8505-135c9f79b56d",
   "metadata": {},
   "source": [
    "Now, removing of the sampled individuals:"
   ]
  },
  {
   "cell_type": "code",
   "execution_count": 67,
   "id": "581dacd3-b913-4f35-b454-a5e6012007bf",
   "metadata": {},
   "outputs": [
    {
     "name": "stdout",
     "output_type": "stream",
     "text": [
      "sampled individuals: [1, 3, 2, 4, 5, 11, 10, 13, 7, 12, 17, 0]\n",
      "shared ancestry matrix after keeping sampled indivduals is:\n",
      " [[2.161 1.902 1.902 1.781 1.902 1.902 1.781 1.781 1.781 1.902 1.781 1.781]\n",
      " [1.902 2.319 2.161 1.781 2.161 2.161 1.781 1.781 1.781 2.161 1.781 1.781]\n",
      " [1.902 2.161 3.19  1.781 2.868 2.868 1.781 1.781 1.781 2.868 1.781 1.781]\n",
      " [1.781 1.781 1.781 4.801 1.781 1.781 3.426 4.542 3.426 1.781 2.804 2.804]\n",
      " [1.902 2.161 2.868 1.781 4.761 2.717 1.781 1.781 1.781 2.717 1.781 1.781]\n",
      " [1.902 2.161 2.868 1.781 2.717 5.013 1.781 1.781 1.781 4.026 1.781 1.781]\n",
      " [1.781 1.781 1.781 3.426 1.781 1.781 5.092 3.426 3.837 1.781 2.804 2.804]\n",
      " [1.781 1.781 1.781 4.542 1.781 1.781 3.426 5.352 3.426 1.781 2.804 2.804]\n",
      " [1.781 1.781 1.781 3.426 1.781 1.781 3.837 3.426 5.871 1.781 2.804 2.804]\n",
      " [1.902 2.161 2.868 1.781 2.717 4.026 1.781 1.781 1.781 6.222 1.781 1.781]\n",
      " [1.781 1.781 1.781 2.804 1.781 1.781 2.804 2.804 2.804 1.781 6.231 5.987]\n",
      " [1.781 1.781 1.781 2.804 1.781 1.781 2.804 2.804 2.804 1.781 5.987 7.568]]\n"
     ]
    }
   ],
   "source": [
    "print(\"sampled individuals:\",sampled)\n",
    "# deleting un-sampled ones from distance matrix\n",
    "dist_array = dist_array_all[np.ix_(sampled,sampled)]\n",
    "print(\"shared ancestry matrix after keeping sampled indivduals is:\\n\",dist_array)"
   ]
  },
  {
   "cell_type": "markdown",
   "id": "eba9d4bc-f9f0-48d2-b1c5-ae5ac1435ef0",
   "metadata": {},
   "source": [
    "Some auxiliary functions to convert the shared ancestry matrix to Newick format, functions are adpoted from Yexuan code (convert_dism_newick.R):"
   ]
  },
  {
   "cell_type": "code",
   "execution_count": 47,
   "id": "7827c405-fc5a-4c53-8b3d-52832225a35e",
   "metadata": {},
   "outputs": [],
   "source": [
    "# a recursive matrix to break the matrix \n",
    "import copy\n",
    "def convert_newick(mat):\n",
    "    if np.shape(mat)[0] == 1:\n",
    "        #return(\":\"+str(mat[0][0]))\n",
    "        return(\"xAz:\" + str(mat[0][0]))\n",
    "    elif np.shape(mat)[0] == 2:\n",
    "        new_mat = mat - np.amin(mat)\n",
    "        # dv collects non zero elements of the new mat \n",
    "        dv = new_mat[np.nonzero(new_mat)]\n",
    "        #return(\"(:\"+str(dv[0])+\",:\"+str(dv[1])+\"):\"+str(np.amin(mat)))\n",
    "        return(\"(xAz:\" + str(dv[0]) + \",xAz:\" + str(dv[1]) + \"):\" + str(np.amin(mat)))\n",
    "    elif np.shape(mat)[0] > 2:\n",
    "        branch_length =  np.amin(mat)\n",
    "        # substracting min value of all elements\n",
    "        newm = mat - branch_length\n",
    "        out = break_matrix(newm)\n",
    "        #print(\"out is:\",out[0],\"and: \",out[1])\n",
    "        try:\n",
    "            return(\"(\"+convert_newick(out[0])+\",\"+convert_newick(out[1])+\"):\"+str(branch_length))\n",
    "        except:\n",
    "            print(\"operation for\",out,\"is not possible\")\n",
    "            \n",
    "# break matrix breaks the matrix to two matrices    \n",
    "def break_matrix(mat):\n",
    "    mat2 = copy.deepcopy(mat)\n",
    "    k = []\n",
    "    for i in range(np.shape(mat2)[0]):\n",
    "        if mat2[0][i] == 0:\n",
    "            k.append(i)\n",
    "    m1 = np.delete(mat2,k,1)\n",
    "    m1 = np.delete(m1,k,0)\n",
    "    m2 = mat[np.ix_(k,k)]\n",
    "    output = [m1,m2]\n",
    "    return(output)\n",
    "\n",
    "# toNweick outputs the final result\n",
    "def toNewick(dis_matrix):\n",
    "    out = convert_newick(dis_matrix)\n",
    "    return(\"(\"+out+\")xA0z;\")\n",
    "\n",
    "# I added this function to add label to the branches for aesthetic  \n",
    "def add_label(textf):\n",
    "    j = 1\n",
    "    textl = list(textf)\n",
    "    for i in range(0,len(textl)):\n",
    "        if textl[i] == 'A':\n",
    "            textl.insert(i+1,j)\n",
    "            label_list.append(\"A\"+str(j))\n",
    "            j += 1\n",
    "            \n",
    "    label_list.append(\"A0\")\n",
    "    text2 = ''.join(map(str, textl))\n",
    "    return(text2)"
   ]
  },
  {
   "cell_type": "markdown",
   "id": "4de96048-d222-4229-9d4d-b9209464842f",
   "metadata": {},
   "source": [
    "Calling the functions and converting the matrix to Newick format:"
   ]
  },
  {
   "cell_type": "code",
   "execution_count": 48,
   "id": "51859296-dc13-42cb-8bc6-15b729a49c1f",
   "metadata": {},
   "outputs": [
    {
     "data": {
      "text/plain": [
       "'((xA1z:0.256,(((xA2z:0.1639999999999997,xA3z:3.138999999999999):1.126,((xA4z:0.46799999999999975,(xA5z:1.8909999999999996,xA6z:4.047999999999999):0.020999999999999908):0.7689999999999997,(xA7z:1.2159999999999993,xA8z:1.4959999999999987):0.7309999999999999):0.20900000000000007):0.42700000000000005,xA9z:3.469999999999999):0.256):1.164)xA0z;'"
      ]
     },
     "execution_count": 48,
     "metadata": {},
     "output_type": "execute_result"
    }
   ],
   "source": [
    "text = toNewick(dist_array)\n",
    "text\n",
    "\n",
    "label_list = []\n",
    "\n",
    "text2 = add_label(text)\n",
    "text2"
   ]
  },
  {
   "cell_type": "markdown",
   "id": "c608301a-fd8a-45ff-87fc-30e00458ed99",
   "metadata": {},
   "source": [
    "We can check the Gillespie result alognside of a determinsitic (ODE) simulation."
   ]
  },
  {
   "cell_type": "code",
   "execution_count": 49,
   "id": "3c9b9cb1-ef48-45d3-ad0c-d380ae5e444e",
   "metadata": {},
   "outputs": [],
   "source": [
    "# a function to run the deteminstic simulation\n",
    "def ode_sim(variables,newt,params):\n",
    "    # lambda = beta*S\n",
    "    # mu = gamma\n",
    "    S = variables[0]\n",
    "    I = variables[1]\n",
    "    R = variables[2]\n",
    "    E = variables[3]\n",
    "\n",
    "    beta = params[0]\n",
    "    gamma = params[1]\n",
    "    psi = params[2]\n",
    "\n",
    "    dSdt = -beta * S * I\n",
    "\n",
    "    dIdt = beta * S * I -  (gamma + psi)* I\n",
    "\n",
    "    dRdt = (gamma + psi) * I \n",
    "    \n",
    "    # E variable according to the paper\n",
    "    dEdt = -(beta * S + gamma + psi)*E + (beta * S)*E**2 + gamma  \n",
    "\n",
    "    return [dSdt, dIdt, dRdt, dEdt]"
   ]
  },
  {
   "cell_type": "markdown",
   "id": "b74dc58e-1037-456c-8fc4-1eea3f2d98b7",
   "metadata": {},
   "source": [
    "Initializing variables to run the ODE:"
   ]
  },
  {
   "cell_type": "code",
   "execution_count": 50,
   "id": "cab2b245-e38f-4c1d-b52a-f6945ae72c63",
   "metadata": {},
   "outputs": [],
   "source": [
    "from scipy.integrate import odeint\n",
    "# y0 is the initial condition of our DE's\n",
    "y0 = [S0,I0,R0,E0]\n",
    "\n",
    "# newt is a vector of our timepoints to run DE's\n",
    "newt = np.linspace(0,tend,num=1000)\n",
    "\n",
    "# parameters\n",
    "params = [beta,gamma,psi] \n",
    "\n",
    "y = odeint(ode_sim,y0, newt, args=(params,))"
   ]
  },
  {
   "cell_type": "markdown",
   "id": "30e4bc43-1eb7-4269-b4aa-0b256a7c312e",
   "metadata": {},
   "source": [
    "Now plotting, you can see E variable has a similar shape to S:"
   ]
  },
  {
   "cell_type": "code",
   "execution_count": 51,
   "id": "f883ce31-f826-4dd9-9511-ca2a0fce1831",
   "metadata": {},
   "outputs": [
    {
     "data": {
      "image/png": "[encoded data removed]",
      "text/plain": [
       "<Figure size 432x288 with 1 Axes>"
      ]
     },
     "metadata": {
      "needs_background": "light"
     },
     "output_type": "display_data"
    },
    {
     "data": {
      "image/png": "[encoded data removed]",
      "text/plain": [
       "<Figure size 432x288 with 1 Axes>"
      ]
     },
     "metadata": {
      "needs_background": "light"
     },
     "output_type": "display_data"
    }
   ],
   "source": [
    "import matplotlib.pyplot as plt\n",
    "from scipy.interpolate import interp1d\n",
    "\n",
    "S_plot, = plt.plot(t,S, label=\"S\")\n",
    "I_plot, = plt.plot(t,I, label=\"I\")\n",
    "R_plot, = plt.plot(t,R, label=\"R\")\n",
    "\n",
    "plt.legend(handles=[S_plot, I_plot, R_plot])\n",
    "\n",
    "# plot of the ODE simulation \n",
    "\n",
    "\n",
    "plt.plot(newt,y[:,0], color = 'blue') # S\n",
    "plt.plot(newt,y[:,1], color = 'orange') # I\n",
    "plt.plot(newt,y[:,2], color = 'green') # R\n",
    "\n",
    "\n",
    "plt.show()\n",
    "\n",
    "# interpolation of E(t) \n",
    "intpl = interp1d(newt, y[:,3], kind = 'cubic')\n",
    "plt.plot(newt,y[:,3], color = 'black') #E\n",
    "plt.plot(newt,intpl(newt), color = 'red') #E\n",
    "plt.xlabel(\"Time\")\n",
    "plt.ylabel(\"E\")\n",
    "plt.show()"
   ]
  },
  {
   "cell_type": "markdown",
   "id": "54319ca2-c3e4-4dfd-9ea3-d7b6cdd7c198",
   "metadata": {},
   "source": [
    "Calculation of likelihood (or loglikelihood) depends on calculation of Phi. Phi is given by phi_integrand() function (because it is the integrand in the integral). phi_integrand() calls ode_calc() and calc_lamda():"
   ]
  },
  {
   "cell_type": "code",
   "execution_count": 52,
   "id": "2174f26d-d9a3-41f5-99dd-561c0155b466",
   "metadata": {},
   "outputs": [],
   "source": [
    "# a function to take time from shared ancestry matrix and pass it to ode_sim()\n",
    "def ode_calc(ti,betap,gammap,psip):\n",
    "    global S0, I0, R0, E0\n",
    "    y0 = [S0,I0,R0,E0]\n",
    "    params = [betap,gammap,psip] \n",
    "    time_of_simulation = np.linspace(0,ti,num=3)\n",
    "    y = odeint(ode_sim,y0, time_of_simulation, args=(params,))\n",
    "    return y\n",
    "\n",
    "# calculation of lambda    \n",
    "def calc_lamda(ti,betap,gammap,psip):\n",
    "    y = ode_calc(ti,betap, gammap, psip)\n",
    "    # lamda is beta*S(ti). S(ti) is the last time point of column 0 (S)\n",
    "    lamda = betap*y[-1,0]\n",
    "    return lamda\n",
    "\n",
    "# this function takes ti: time from matrix\n",
    "def phi_integrand(ti,betap,gammap,psip):\n",
    "    global S0,E0\n",
    "    mu = gammap\n",
    "    if ti == 0:\n",
    "        lamda = betap*S0\n",
    "        return(float(-(betap*S0 + mu + psip)+2*lamda*E0))\n",
    "    else:\n",
    "        y = ode_calc(ti,betap, gammap, psip)\n",
    "        lamda = betap*y[-1,0]\n",
    "        phi_value = -(lamda + mu + psip) + 2*lamda*y[-1,3]\n",
    "        return float(phi_value)"
   ]
  },
  {
   "cell_type": "markdown",
   "id": "31696a20-2099-4677-82bc-6317c359b04d",
   "metadata": {},
   "source": [
    "likelihood and loglikelihood functions, these functions take x (parameters) and data (here our shared ancestry matrix):"
   ]
  },
  {
   "cell_type": "code",
   "execution_count": 53,
   "id": "dfbe396e-5ac2-45ea-950c-d8b678c73899",
   "metadata": {},
   "outputs": [],
   "source": [
    "from scipy.integrate import quad\n",
    "import math\n",
    "\n",
    "# a function to calculate the likelihood\n",
    "def likelihood(x,data):\n",
    "    global psi # I don't want to explose likelihood based on psi at this moment, so I pass it as a variable\n",
    "    betap = x[0]\n",
    "    gammap = x[1]\n",
    "    psip = psi\n",
    "    tend2 = np.max(data)\n",
    "    prd = math.exp(quad(phi_integrand, 0, tend2,args=(betap,gammap,psip))[0])\n",
    "    \n",
    "    # iterating over off diagonal elements, branching events\n",
    "    for i in np.unique(data[:,-1][:-1]):\n",
    "        # st makes the time backward\n",
    "        st = tend2 - i\n",
    "        res, err = quad(phi_integrand, 0, st, args=(betap,gammap,psip))\n",
    "        prd = prd*math.exp(res)*calc_lamda(st,betap,gammap,psip)\n",
    "\n",
    "    # iteratign over diagonal elements, sampling   \n",
    "    for j in np.diagonal(data):\n",
    "        st = tend2 - j\n",
    "        res, err = quad(phi_integrand, 0, st,args = (betap,gammap,psip))\n",
    "        prd = (prd*psip)/math.exp(res)\n",
    "        \n",
    "    return prd\n",
    "\n",
    "# a function to calculate the loglikelihood\n",
    "def loglikelihood(x,data):\n",
    "    global psi # I don't want to explore loglikelihood based on psi at this moment, so I pass it as a variable\n",
    "    betap = x[0]\n",
    "    gammap = x[1] \n",
    "    psip = psi\n",
    "    tend2 = np.max(data)\n",
    "    get = quad(phi_integrand, 0, tend2,args=(betap,gammap,psip))[0]\n",
    "    \n",
    "    # iterating over off diagonal elements, branching\n",
    "    for i in np.unique(data[:,-1][:-1]):\n",
    "        # st makes the time backward\n",
    "        st = tend2 - i\n",
    "        res, err = quad(phi_integrand, 0, st,args = (betap,gammap,psip))\n",
    "        get = get + res + np.log(calc_lamda(st, betap, gammap, psip))\n",
    "               \n",
    "    # iteratign over diagonal elements, sampling\n",
    "    for j in np.diagonal(data):\n",
    "        st = tend2 - j\n",
    "        res, err = quad(phi_integrand, 0, st, args=(betap,gammap,psip))\n",
    "        get = get + np.log(psip) - res\n",
    "                \n",
    "    return get"
   ]
  },
  {
   "cell_type": "markdown",
   "id": "00872b37-5194-4b9d-aebe-4d8ca02cf391",
   "metadata": {},
   "source": [
    "Calculating likelihood and loglikelihood:"
   ]
  },
  {
   "cell_type": "code",
   "execution_count": 54,
   "id": "bf80ce4a-67d1-44b1-b57f-f09d25d7e629",
   "metadata": {},
   "outputs": [
    {
     "name": "stdout",
     "output_type": "stream",
     "text": [
      "log of the likelihood is: -44.665997655321725\n",
      "loglikelihood is: -44.665997655321725\n"
     ]
    }
   ],
   "source": [
    "# x is the list of parameters to be passed as argument to likelihood (or loglikelihood)\n",
    "x = [beta,gamma]\n",
    "\n",
    "LL = likelihood(x, dist_array)\n",
    "print(\"log of the likelihood is:\",np.log(LL))\n",
    "\n",
    "LLL = loglikelihood(x,dist_array)\n",
    "print(\"loglikelihood is:\",LLL)"
   ]
  },
  {
   "cell_type": "markdown",
   "id": "f80e1015-420e-458c-a086-4767d7f9eda9",
   "metadata": {},
   "source": [
    "Exploring loglikelihood surface with varying values of beta and gamma, this part takes time, be patient!"
   ]
  },
  {
   "cell_type": "code",
   "execution_count": 55,
   "id": "b27756da-8836-4a1e-94a9-947988340f2c",
   "metadata": {},
   "outputs": [],
   "source": [
    "# gendat is a list to keep the generated loglikelihood values\n",
    "gendat = [[],[],[]]\n",
    "for i in np.arange(0.01,0.2,0.01):\n",
    "    for j in np.arange(0.01,0.2,0.01):\n",
    "        gendat[0].append(i)\n",
    "        gendat[1].append(j)\n",
    "        gendat[2].append(loglikelihood([i,j],dist_array))"
   ]
  },
  {
   "cell_type": "markdown",
   "id": "43320411-f9da-4ee2-9f80-abc8f39d242b",
   "metadata": {},
   "source": [
    "Converting the list of lists to a matrix, then a dataframe and, fianally plotting:"
   ]
  },
  {
   "cell_type": "code",
   "execution_count": 57,
   "id": "d0d448b7-e9e1-41f9-ac8b-de72027e47b8",
   "metadata": {},
   "outputs": [
    {
     "data": {
      "application/vnd.plotly.v1+json": {
       "config": {
        "plotlyServerURL": "https://plot.ly"
       },
       "data": [
        {
         "hovertemplate": "beta=%{x}<br>gamma=%{y}<br>LL=%{z}<extra></extra>",
         "legendgroup": "",
         "marker": {
          "color": "#636efa",
          "symbol": "circle"
         },
         "mode": "markers",
         "name": "",
         "scene": "scene",
         "showlegend": false,
         "type": "scatter3d",
         "x": [
          0.01,
          0.01,
          0.01,
          0.01,
          0.01,
          0.01,
          0.01,
          0.01,
          0.01,
          0.01,
          0.01,
          0.01,
          0.01,
          0.01,
          0.01,
          0.01,
          0.01,
          0.01,
          0.01,
          0.02,
          0.02,
          0.02,
          0.02,
          0.02,
          0.02,
          0.02,
          0.02,
          0.02,
          0.02,
          0.02,
          0.02,
          0.02,
          0.02,
          0.02,
          0.02,
          0.02,
          0.02,
          0.02,
          0.03,
          0.03,
          0.03,
          0.03,
          0.03,
          0.03,
          0.03,
          0.03,
          0.03,
          0.03,
          0.03,
          0.03,
          0.03,
          0.03,
          0.03,
          0.03,
          0.03,
          0.03,
          0.03,
          0.04,
          0.04,
          0.04,
          0.04,
          0.04,
          0.04,
          0.04,
          0.04,
          0.04,
          0.04,
          0.04,
          0.04,
          0.04,
          0.04,
          0.04,
          0.04,
          0.04,
          0.04,
          0.04,
          0.05,
          0.05,
          0.05,
          0.05,
          0.05,
          0.05,
          0.05,
          0.05,
          0.05,
          0.05,
          0.05,
          0.05,
          0.05,
          0.05,
          0.05,
          0.05,
          0.05,
          0.05,
          0.05,
          0.060000000000000005,
          0.060000000000000005,
          0.060000000000000005,
          0.060000000000000005,
          0.060000000000000005,
          0.060000000000000005,
          0.060000000000000005,
          0.060000000000000005,
          0.060000000000000005,
          0.060000000000000005,
          0.060000000000000005,
          0.060000000000000005,
          0.060000000000000005,
          0.060000000000000005,
          0.060000000000000005,
          0.060000000000000005,
          0.060000000000000005,
          0.060000000000000005,
          0.060000000000000005,
          0.06999999999999999,
          0.06999999999999999,
          0.06999999999999999,
          0.06999999999999999,
          0.06999999999999999,
          0.06999999999999999,
          0.06999999999999999,
          0.06999999999999999,
          0.06999999999999999,
          0.06999999999999999,
          0.06999999999999999,
          0.06999999999999999,
          0.06999999999999999,
          0.06999999999999999,
          0.06999999999999999,
          0.06999999999999999,
          0.06999999999999999,
          0.06999999999999999,
          0.06999999999999999,
          0.08,
          0.08,
          0.08,
          0.08,
          0.08,
          0.08,
          0.08,
          0.08,
          0.08,
          0.08,
          0.08,
          0.08,
          0.08,
          0.08,
          0.08,
          0.08,
          0.08,
          0.08,
          0.08,
          0.09,
          0.09,
          0.09,
          0.09,
          0.09,
          0.09,
          0.09,
          0.09,
          0.09,
          0.09,
          0.09,
          0.09,
          0.09,
          0.09,
          0.09,
          0.09,
          0.09,
          0.09,
          0.09,
          0.09999999999999999,
          0.09999999999999999,
          0.09999999999999999,
          0.09999999999999999,
          0.09999999999999999,
          0.09999999999999999,
          0.09999999999999999,
          0.09999999999999999,
          0.09999999999999999,
          0.09999999999999999,
          0.09999999999999999,
          0.09999999999999999,
          0.09999999999999999,
          0.09999999999999999,
          0.09999999999999999,
          0.09999999999999999,
          0.09999999999999999,
          0.09999999999999999,
          0.09999999999999999,
          0.11,
          0.11,
          0.11,
          0.11,
          0.11,
          0.11,
          0.11,
          0.11,
          0.11,
          0.11,
          0.11,
          0.11,
          0.11,
          0.11,
          0.11,
          0.11,
          0.11,
          0.11,
          0.11,
          0.12,
          0.12,
          0.12,
          0.12,
          0.12,
          0.12,
          0.12,
          0.12,
          0.12,
          0.12,
          0.12,
          0.12,
          0.12,
          0.12,
          0.12,
          0.12,
          0.12,
          0.12,
          0.12,
          0.13,
          0.13,
          0.13,
          0.13,
          0.13,
          0.13,
          0.13,
          0.13,
          0.13,
          0.13,
          0.13,
          0.13,
          0.13,
          0.13,
          0.13,
          0.13,
          0.13,
          0.13,
          0.13,
          0.14,
          0.14,
          0.14,
          0.14,
          0.14,
          0.14,
          0.14,
          0.14,
          0.14,
          0.14,
          0.14,
          0.14,
          0.14,
          0.14,
          0.14,
          0.14,
          0.14,
          0.14,
          0.14,
          0.15000000000000002,
          0.15000000000000002,
          0.15000000000000002,
          0.15000000000000002,
          0.15000000000000002,
          0.15000000000000002,
          0.15000000000000002,
          0.15000000000000002,
          0.15000000000000002,
          0.15000000000000002,
          0.15000000000000002,
          0.15000000000000002,
          0.15000000000000002,
          0.15000000000000002,
          0.15000000000000002,
          0.15000000000000002,
          0.15000000000000002,
          0.15000000000000002,
          0.15000000000000002,
          0.16,
          0.16,
          0.16,
          0.16,
          0.16,
          0.16,
          0.16,
          0.16,
          0.16,
          0.16,
          0.16,
          0.16,
          0.16,
          0.16,
          0.16,
          0.16,
          0.16,
          0.16,
          0.16,
          0.17,
          0.17,
          0.17,
          0.17,
          0.17,
          0.17,
          0.17,
          0.17,
          0.17,
          0.17,
          0.17,
          0.17,
          0.17,
          0.17,
          0.17,
          0.17,
          0.17,
          0.17,
          0.17,
          0.18000000000000002,
          0.18000000000000002,
          0.18000000000000002,
          0.18000000000000002,
          0.18000000000000002,
          0.18000000000000002,
          0.18000000000000002,
          0.18000000000000002,
          0.18000000000000002,
          0.18000000000000002,
          0.18000000000000002,
          0.18000000000000002,
          0.18000000000000002,
          0.18000000000000002,
          0.18000000000000002,
          0.18000000000000002,
          0.18000000000000002,
          0.18000000000000002,
          0.18000000000000002,
          0.19,
          0.19,
          0.19,
          0.19,
          0.19,
          0.19,
          0.19,
          0.19,
          0.19,
          0.19,
          0.19,
          0.19,
          0.19,
          0.19,
          0.19,
          0.19,
          0.19,
          0.19,
          0.19
         ],
         "y": [
          0.01,
          0.02,
          0.03,
          0.04,
          0.05,
          0.060000000000000005,
          0.06999999999999999,
          0.08,
          0.09,
          0.09999999999999999,
          0.11,
          0.12,
          0.13,
          0.14,
          0.15000000000000002,
          0.16,
          0.17,
          0.18000000000000002,
          0.19,
          0.01,
          0.02,
          0.03,
          0.04,
          0.05,
          0.060000000000000005,
          0.06999999999999999,
          0.08,
          0.09,
          0.09999999999999999,
          0.11,
          0.12,
          0.13,
          0.14,
          0.15000000000000002,
          0.16,
          0.17,
          0.18000000000000002,
          0.19,
          0.01,
          0.02,
          0.03,
          0.04,
          0.05,
          0.060000000000000005,
          0.06999999999999999,
          0.08,
          0.09,
          0.09999999999999999,
          0.11,
          0.12,
          0.13,
          0.14,
          0.15000000000000002,
          0.16,
          0.17,
          0.18000000000000002,
          0.19,
          0.01,
          0.02,
          0.03,
          0.04,
          0.05,
          0.060000000000000005,
          0.06999999999999999,
          0.08,
          0.09,
          0.09999999999999999,
          0.11,
          0.12,
          0.13,
          0.14,
          0.15000000000000002,
          0.16,
          0.17,
          0.18000000000000002,
          0.19,
          0.01,
          0.02,
          0.03,
          0.04,
          0.05,
          0.060000000000000005,
          0.06999999999999999,
          0.08,
          0.09,
          0.09999999999999999,
          0.11,
          0.12,
          0.13,
          0.14,
          0.15000000000000002,
          0.16,
          0.17,
          0.18000000000000002,
          0.19,
          0.01,
          0.02,
          0.03,
          0.04,
          0.05,
          0.060000000000000005,
          0.06999999999999999,
          0.08,
          0.09,
          0.09999999999999999,
          0.11,
          0.12,
          0.13,
          0.14,
          0.15000000000000002,
          0.16,
          0.17,
          0.18000000000000002,
          0.19,
          0.01,
          0.02,
          0.03,
          0.04,
          0.05,
          0.060000000000000005,
          0.06999999999999999,
          0.08,
          0.09,
          0.09999999999999999,
          0.11,
          0.12,
          0.13,
          0.14,
          0.15000000000000002,
          0.16,
          0.17,
          0.18000000000000002,
          0.19,
          0.01,
          0.02,
          0.03,
          0.04,
          0.05,
          0.060000000000000005,
          0.06999999999999999,
          0.08,
          0.09,
          0.09999999999999999,
          0.11,
          0.12,
          0.13,
          0.14,
          0.15000000000000002,
          0.16,
          0.17,
          0.18000000000000002,
          0.19,
          0.01,
          0.02,
          0.03,
          0.04,
          0.05,
          0.060000000000000005,
          0.06999999999999999,
          0.08,
          0.09,
          0.09999999999999999,
          0.11,
          0.12,
          0.13,
          0.14,
          0.15000000000000002,
          0.16,
          0.17,
          0.18000000000000002,
          0.19,
          0.01,
          0.02,
          0.03,
          0.04,
          0.05,
          0.060000000000000005,
          0.06999999999999999,
          0.08,
          0.09,
          0.09999999999999999,
          0.11,
          0.12,
          0.13,
          0.14,
          0.15000000000000002,
          0.16,
          0.17,
          0.18000000000000002,
          0.19,
          0.01,
          0.02,
          0.03,
          0.04,
          0.05,
          0.060000000000000005,
          0.06999999999999999,
          0.08,
          0.09,
          0.09999999999999999,
          0.11,
          0.12,
          0.13,
          0.14,
          0.15000000000000002,
          0.16,
          0.17,
          0.18000000000000002,
          0.19,
          0.01,
          0.02,
          0.03,
          0.04,
          0.05,
          0.060000000000000005,
          0.06999999999999999,
          0.08,
          0.09,
          0.09999999999999999,
          0.11,
          0.12,
          0.13,
          0.14,
          0.15000000000000002,
          0.16,
          0.17,
          0.18000000000000002,
          0.19,
          0.01,
          0.02,
          0.03,
          0.04,
          0.05,
          0.060000000000000005,
          0.06999999999999999,
          0.08,
          0.09,
          0.09999999999999999,
          0.11,
          0.12,
          0.13,
          0.14,
          0.15000000000000002,
          0.16,
          0.17,
          0.18000000000000002,
          0.19,
          0.01,
          0.02,
          0.03,
          0.04,
          0.05,
          0.060000000000000005,
          0.06999999999999999,
          0.08,
          0.09,
          0.09999999999999999,
          0.11,
          0.12,
          0.13,
          0.14,
          0.15000000000000002,
          0.16,
          0.17,
          0.18000000000000002,
          0.19,
          0.01,
          0.02,
          0.03,
          0.04,
          0.05,
          0.060000000000000005,
          0.06999999999999999,
          0.08,
          0.09,
          0.09999999999999999,
          0.11,
          0.12,
          0.13,
          0.14,
          0.15000000000000002,
          0.16,
          0.17,
          0.18000000000000002,
          0.19,
          0.01,
          0.02,
          0.03,
          0.04,
          0.05,
          0.060000000000000005,
          0.06999999999999999,
          0.08,
          0.09,
          0.09999999999999999,
          0.11,
          0.12,
          0.13,
          0.14,
          0.15000000000000002,
          0.16,
          0.17,
          0.18000000000000002,
          0.19,
          0.01,
          0.02,
          0.03,
          0.04,
          0.05,
          0.060000000000000005,
          0.06999999999999999,
          0.08,
          0.09,
          0.09999999999999999,
          0.11,
          0.12,
          0.13,
          0.14,
          0.15000000000000002,
          0.16,
          0.17,
          0.18000000000000002,
          0.19,
          0.01,
          0.02,
          0.03,
          0.04,
          0.05,
          0.060000000000000005,
          0.06999999999999999,
          0.08,
          0.09,
          0.09999999999999999,
          0.11,
          0.12,
          0.13,
          0.14,
          0.15000000000000002,
          0.16,
          0.17,
          0.18000000000000002,
          0.19,
          0.01,
          0.02,
          0.03,
          0.04,
          0.05,
          0.060000000000000005,
          0.06999999999999999,
          0.08,
          0.09,
          0.09999999999999999,
          0.11,
          0.12,
          0.13,
          0.14,
          0.15000000000000002,
          0.16,
          0.17,
          0.18000000000000002,
          0.19
         ],
         "z": [
          -34.280482489012954,
          -34.36212293718418,
          -34.44496765635891,
          -34.5289866607982,
          -34.61415005588267,
          -34.700429459553554,
          -34.787796080326096,
          -34.87622184462247,
          -34.96567931259943,
          -35.056142119509204,
          -35.147582668046624,
          -35.23997539706582,
          -35.333294720074356,
          -35.42751708768337,
          -35.522617018401675,
          -35.61857096965734,
          -35.71535550780558,
          -35.81294839716015,
          -35.91132728369797,
          -31.351202911716065,
          -31.365514512121546,
          -31.38197678761706,
          -31.40056755816026,
          -31.42126395677804,
          -31.44404260800051,
          -31.46887964723542,
          -31.495750583167624,
          -31.524631042344783,
          -31.555495493648067,
          -31.588318329181945,
          -31.623073458461015,
          -31.659735378250268,
          -31.698274026243112,
          -31.738665858675166,
          -31.78088216184287,
          -31.824895004994243,
          -31.87067707316503,
          -31.918199525227656,
          -31.595609228202523,
          -31.542028832725904,
          -31.49101322891357,
          -31.44253443602615,
          -31.396565282823413,
          -31.35308172269369,
          -31.31205948487112,
          -31.273476314454026,
          -31.237310844299362,
          -31.20354260002596,
          -31.17215191947709,
          -31.143119642214234,
          -31.116427721516903,
          -31.092058058103035,
          -31.069993160118784,
          -31.050215626192884,
          -31.032708312222976,
          -31.01745439586043,
          -31.004437012517528,
          -33.642830373288675,
          -33.52455885943942,
          -33.409569342894464,
          -33.29778279942117,
          -33.189125209129294,
          -33.08352725557182,
          -32.98092419534961,
          -32.88125537456304,
          -32.784464022356524,
          -32.6904973852813,
          -32.59930587212853,
          -32.51084324023531,
          -32.42506630778964,
          -32.34193472802063,
          -32.26141078203952,
          -32.18345923629856,
          -32.10804714586871,
          -32.035143689327235,
          -31.96472000868647,
          -36.83370738646683,
          -36.65070482950701,
          -36.472316231381015,
          -36.298381383390605,
          -36.12874869300739,
          -35.96327488607104,
          -35.801824071567026,
          -35.644267864751995,
          -35.490484656120394,
          -35.340360377932186,
          -35.19378632343944,
          -35.05066073968805,
          -34.910887599129886,
          -34.77437647756889,
          -34.64104193719098,
          -34.51080454555335,
          -34.383588779869136,
          -34.25932380142819,
          -34.13794354187736,
          -40.71505190192041,
          -40.46393732985669,
          -40.21940501982169,
          -39.981199921668505,
          -39.74908011171726,
          -39.52281350604277,
          -39.30217856311056,
          -39.086963714112564,
          -38.876967102005686,
          -38.67199622981675,
          -38.47186755142579,
          -38.27640632371341,
          -38.08544613375553,
          -37.89882863549593,
          -37.7164032630257,
          -37.53802691542046,
          -37.36356355894964,
          -37.19288442990321,
          -37.02586691316395,
          -44.99114648302281,
          -44.66599765532189,
          -44.34987870864345,
          -44.042440202890724,
          -43.74334733860191,
          -43.45227832669662,
          -43.16892284889952,
          -42.89298390758844,
          -42.62417595158112,
          -42.362224944914914,
          -42.106867945377445,
          -41.857852864501105,
          -41.61493798900122,
          -41.377891704319765,
          -41.14649217916437,
          -40.92052702525869,
          -40.6997928105222,
          -40.48409548665028,
          -40.27324872037864,
          -49.488979149165,
          -49.083099992583584,
          -48.68900442915343,
          -48.306248372768124,
          -47.93440748431499,
          -47.57307469230105,
          -47.22184930322487,
          -46.8803521177207,
          -46.548214943401746,
          -46.22508397601642,
          -45.910617684452774,
          -45.604488654443315,
          -45.306380001895,
          -45.01598764776326,
          -44.73301884026297,
          -44.4571920737956,
          -44.18823650218096,
          -43.925891751214145,
          -43.669908177559456,
          -54.11312798346303,
          -53.620249513640886,
          -53.142092669518654,
          -52.67811951584883,
          -52.22781512297046,
          -51.790686475656784,
          -51.36624815258398,
          -50.954039854178475,
          -50.553614177364594,
          -50.16453752064261,
          -49.78639292781437,
          -49.418778226905424,
          -49.06130488402113,
          -48.71359721810063,
          -48.375295274129854,
          -48.04604941277161,
          -47.72552332853907,
          -47.413392804892844,
          -47.10934550410766,
          -58.81196367980294,
          -58.2267668546958,
          -57.659318889635635,
          -57.10901256246823,
          -56.575238267795086,
          -56.05741457140145,
          -55.554974028487194,
          -55.06737035084852,
          -54.59408340724088,
          -54.13460139550164,
          -53.68843147515674,
          -53.25509890648045,
          -52.834144577622176,
          -52.42512802223271,
          -52.02761472342368,
          -51.641193301849384,
          -51.26546362284611,
          -50.900039376593455,
          -50.5445461543202,
          -63.557251652094976,
          -62.875407006789715,
          -62.21443417445114,
          -61.57361484115953,
          -60.95225239405666,
          -60.34968618914176,
          -59.765249850921066,
          -59.198327067664664,
          -58.648314989280806,
          -58.11463089993905,
          -57.596692643053316,
          -57.09397087962391,
          -56.605921795806914,
          -56.132043462278894,
          -55.67183720330696,
          -55.224831129767004,
          -54.79055073996942,
          -54.36855987553116,
          -53.95841971034677,
          -68.33308944904309,
          -67.55119729176063,
          -66.7933333879072,
          -66.0586853420857,
          -65.34646505637966,
          -64.65591123783096,
          -63.98629260497202,
          -63.33690173264886,
          -62.707041093833716,
          -62.09605982811976,
          -61.50331186068499,
          -60.92817822520578,
          -60.37005865538791,
          -59.82837205214144,
          -59.30256780109778,
          -58.79208388555024,
          -58.296411854450405,
          -57.815047562937515,
          -57.34748537294819,
          -73.1302257985149,
          -72.24562116877355,
          -71.38824044381789,
          -70.55716975161897,
          -69.75152826512578,
          -68.97046260051441,
          -68.21314930145577,
          -67.47879636853646,
          -66.76663881662954,
          -66.07592726149568,
          -65.405945553327,
          -64.75599438292727,
          -64.12541762376131,
          -63.513561087711196,
          -62.91979598822994,
          -62.34351681664187,
          -61.78413821755449,
          -61.24109106781619,
          -60.71382563939588,
          -77.94310933409616,
          -76.95371341776357,
          -75.99476616822535,
          -75.06524791181714,
          -74.1641839041312,
          -73.29063214781203,
          -72.44367126852597,
          -71.62242424336308,
          -70.82603794937232,
          -70.05369265128166,
          -69.30458712756044,
          -68.57795409814852,
          -67.87304034192107,
          -67.18914794507359,
          -66.52557441543827,
          -65.88164807932985,
          -65.256719120555,
          -64.65016705061824,
          -64.06136886983636,
          -82.76826803099831,
          -81.67244422837372,
          -80.6103269064898,
          -79.58079839054956,
          -78.5827459933755,
          -77.61517533233312,
          -76.67704915396648,
          -75.76740153500234,
          -74.88529623545179,
          -74.02983213826816,
          -73.20013136807354,
          -72.3953491085321,
          -71.6146553434428,
          -70.85727815210856,
          -70.12244731998084,
          -69.40942858449414,
          -68.71750965404148,
          -68.04599898537337,
          -67.39423207676093,
          -87.60339717658549,
          -86.3998788588806,
          -85.23334139114087,
          -84.10256809731173,
          -83.00632367563735,
          -81.94352453840202,
          -80.91305653626138,
          -79.91383764908907,
          -78.94486590152194,
          -78.00513206687066,
          -77.0936932391684,
          -76.2096253243065,
          -75.35202609297336,
          -74.52004319518532,
          -73.71283673999051,
          -72.92959834203914,
          -72.16956536983433,
          -71.43198471745056,
          -70.71611689913043,
          -92.4469633171499,
          -91.13470583589813,
          -89.86276075385197,
          -88.62973808136897,
          -87.43439788992534,
          -86.27544486153323,
          -85.15170206161534,
          -84.06201359690445,
          -83.00524987713136,
          -81.98037059164072,
          -80.98631380221482,
          -80.0220650363742,
          -79.08669906621368,
          -78.17921952546,
          -77.29876954911596,
          -76.4444675524677,
          -75.61544234846428,
          -74.81091366884093,
          -74.03008113713585,
          -97.29791138745523,
          -95.87609000490927,
          -94.49784520449211,
          -93.16182031660738,
          -91.86657804735034,
          -90.61073923193273,
          -89.39299544467342,
          -88.2121278924004,
          -87.06690066449212,
          -85.95617578372504,
          -84.87881413183538,
          -83.83373484378174,
          -82.8198785658258,
          -81.83625965821234,
          -80.88188896669281,
          -79.95582927425676,
          -79.05716488860821,
          -78.18502664321105,
          -77.33854567070959,
          -102.15582102031415,
          -100.62336206931892,
          -99.1382833320638,
          -97.69852434611133,
          -96.30278165693993,
          -94.94932543050388,
          -93.63703256727271,
          -92.36440855656619,
          -91.13012482184554,
          -89.93302589369432,
          -88.77186821229898,
          -87.64539941226117,
          -86.55257538467313,
          -85.49226239012157,
          -84.46345915907726,
          -83.46512594717002,
          -82.49629211474569,
          -81.55601182869138,
          -80.64338295966223
         ]
        }
       ],
       "layout": {
        "autosize": true,
        "legend": {
         "tracegroupgap": 0
        },
        "margin": {
         "t": 60
        },
        "scene": {
         "aspectmode": "auto",
         "aspectratio": {
          "x": 1,
          "y": 1,
          "z": 1
         },
         "camera": {
          "center": {
           "x": 0,
           "y": 0,
           "z": 0
          },
          "eye": {
           "x": 1.0935051729496843,
           "y": 0.6749582172666476,
           "z": 0.6705833960689943
          },
          "projection": {
           "type": "perspective"
          },
          "up": {
           "x": 0,
           "y": 0,
           "z": 1
          }
         },
         "domain": {
          "x": [
           0,
           1
          ],
          "y": [
           0,
           1
          ]
         },
         "xaxis": {
          "title": {
           "text": "beta"
          },
          "type": "linear"
         },
         "yaxis": {
          "title": {
           "text": "gamma"
          },
          "type": "linear"
         },
         "zaxis": {
          "title": {
           "text": "LL"
          },
          "type": "linear"
         }
        },
        "template": {
         "data": {
          "bar": [
           {
            "error_x": {
             "color": "#2a3f5f"
            },
            "error_y": {
             "color": "#2a3f5f"
            },
            "marker": {
             "line": {
              "color": "#E5ECF6",
              "width": 0.5
             },
             "pattern": {
              "fillmode": "overlay",
              "size": 10,
              "solidity": 0.2
             }
            },
            "type": "bar"
           }
          ],
          "barpolar": [
           {
            "marker": {
             "line": {
              "color": "#E5ECF6",
              "width": 0.5
             },
             "pattern": {
              "fillmode": "overlay",
              "size": 10,
              "solidity": 0.2
             }
            },
            "type": "barpolar"
           }
          ],
          "carpet": [
           {
            "aaxis": {
             "endlinecolor": "#2a3f5f",
             "gridcolor": "white",
             "linecolor": "white",
             "minorgridcolor": "white",
             "startlinecolor": "#2a3f5f"
            },
            "baxis": {
             "endlinecolor": "#2a3f5f",
             "gridcolor": "white",
             "linecolor": "white",
             "minorgridcolor": "white",
             "startlinecolor": "#2a3f5f"
            },
            "type": "carpet"
           }
          ],
          "choropleth": [
           {
            "colorbar": {
             "outlinewidth": 0,
             "ticks": ""
            },
            "type": "choropleth"
           }
          ],
          "contour": [
           {
            "colorbar": {
             "outlinewidth": 0,
             "ticks": ""
            },
            "colorscale": [
             [
              0,
              "#0d0887"
             ],
             [
              0.1111111111111111,
              "#46039f"
             ],
             [
              0.2222222222222222,
              "#7201a8"
             ],
             [
              0.3333333333333333,
              "#9c179e"
             ],
             [
              0.4444444444444444,
              "#bd3786"
             ],
             [
              0.5555555555555556,
              "#d8576b"
             ],
             [
              0.6666666666666666,
              "#ed7953"
             ],
             [
              0.7777777777777778,
              "#fb9f3a"
             ],
             [
              0.8888888888888888,
              "#fdca26"
             ],
             [
              1,
              "#f0f921"
             ]
            ],
            "type": "contour"
           }
          ],
          "contourcarpet": [
           {
            "colorbar": {
             "outlinewidth": 0,
             "ticks": ""
            },
            "type": "contourcarpet"
           }
          ],
          "heatmap": [
           {
            "colorbar": {
             "outlinewidth": 0,
             "ticks": ""
            },
            "colorscale": [
             [
              0,
              "#0d0887"
             ],
             [
              0.1111111111111111,
              "#46039f"
             ],
             [
              0.2222222222222222,
              "#7201a8"
             ],
             [
              0.3333333333333333,
              "#9c179e"
             ],
             [
              0.4444444444444444,
              "#bd3786"
             ],
             [
              0.5555555555555556,
              "#d8576b"
             ],
             [
              0.6666666666666666,
              "#ed7953"
             ],
             [
              0.7777777777777778,
              "#fb9f3a"
             ],
             [
              0.8888888888888888,
              "#fdca26"
             ],
             [
              1,
              "#f0f921"
             ]
            ],
            "type": "heatmap"
           }
          ],
          "heatmapgl": [
           {
            "colorbar": {
             "outlinewidth": 0,
             "ticks": ""
            },
            "colorscale": [
             [
              0,
              "#0d0887"
             ],
             [
              0.1111111111111111,
              "#46039f"
             ],
             [
              0.2222222222222222,
              "#7201a8"
             ],
             [
              0.3333333333333333,
              "#9c179e"
             ],
             [
              0.4444444444444444,
              "#bd3786"
             ],
             [
              0.5555555555555556,
              "#d8576b"
             ],
             [
              0.6666666666666666,
              "#ed7953"
             ],
             [
              0.7777777777777778,
              "#fb9f3a"
             ],
             [
              0.8888888888888888,
              "#fdca26"
             ],
             [
              1,
              "#f0f921"
             ]
            ],
            "type": "heatmapgl"
           }
          ],
          "histogram": [
           {
            "marker": {
             "pattern": {
              "fillmode": "overlay",
              "size": 10,
              "solidity": 0.2
             }
            },
            "type": "histogram"
           }
          ],
          "histogram2d": [
           {
            "colorbar": {
             "outlinewidth": 0,
             "ticks": ""
            },
            "colorscale": [
             [
              0,
              "#0d0887"
             ],
             [
              0.1111111111111111,
              "#46039f"
             ],
             [
              0.2222222222222222,
              "#7201a8"
             ],
             [
              0.3333333333333333,
              "#9c179e"
             ],
             [
              0.4444444444444444,
              "#bd3786"
             ],
             [
              0.5555555555555556,
              "#d8576b"
             ],
             [
              0.6666666666666666,
              "#ed7953"
             ],
             [
              0.7777777777777778,
              "#fb9f3a"
             ],
             [
              0.8888888888888888,
              "#fdca26"
             ],
             [
              1,
              "#f0f921"
             ]
            ],
            "type": "histogram2d"
           }
          ],
          "histogram2dcontour": [
           {
            "colorbar": {
             "outlinewidth": 0,
             "ticks": ""
            },
            "colorscale": [
             [
              0,
              "#0d0887"
             ],
             [
              0.1111111111111111,
              "#46039f"
             ],
             [
              0.2222222222222222,
              "#7201a8"
             ],
             [
              0.3333333333333333,
              "#9c179e"
             ],
             [
              0.4444444444444444,
              "#bd3786"
             ],
             [
              0.5555555555555556,
              "#d8576b"
             ],
             [
              0.6666666666666666,
              "#ed7953"
             ],
             [
              0.7777777777777778,
              "#fb9f3a"
             ],
             [
              0.8888888888888888,
              "#fdca26"
             ],
             [
              1,
              "#f0f921"
             ]
            ],
            "type": "histogram2dcontour"
           }
          ],
          "mesh3d": [
           {
            "colorbar": {
             "outlinewidth": 0,
             "ticks": ""
            },
            "type": "mesh3d"
           }
          ],
          "parcoords": [
           {
            "line": {
             "colorbar": {
              "outlinewidth": 0,
              "ticks": ""
             }
            },
            "type": "parcoords"
           }
          ],
          "pie": [
           {
            "automargin": true,
            "type": "pie"
           }
          ],
          "scatter": [
           {
            "fillpattern": {
             "fillmode": "overlay",
             "size": 10,
             "solidity": 0.2
            },
            "type": "scatter"
           }
          ],
          "scatter3d": [
           {
            "line": {
             "colorbar": {
              "outlinewidth": 0,
              "ticks": ""
             }
            },
            "marker": {
             "colorbar": {
              "outlinewidth": 0,
              "ticks": ""
             }
            },
            "type": "scatter3d"
           }
          ],
          "scattercarpet": [
           {
            "marker": {
             "colorbar": {
              "outlinewidth": 0,
              "ticks": ""
             }
            },
            "type": "scattercarpet"
           }
          ],
          "scattergeo": [
           {
            "marker": {
             "colorbar": {
              "outlinewidth": 0,
              "ticks": ""
             }
            },
            "type": "scattergeo"
           }
          ],
          "scattergl": [
           {
            "marker": {
             "colorbar": {
              "outlinewidth": 0,
              "ticks": ""
             }
            },
            "type": "scattergl"
           }
          ],
          "scattermapbox": [
           {
            "marker": {
             "colorbar": {
              "outlinewidth": 0,
              "ticks": ""
             }
            },
            "type": "scattermapbox"
           }
          ],
          "scatterpolar": [
           {
            "marker": {
             "colorbar": {
              "outlinewidth": 0,
              "ticks": ""
             }
            },
            "type": "scatterpolar"
           }
          ],
          "scatterpolargl": [
           {
            "marker": {
             "colorbar": {
              "outlinewidth": 0,
              "ticks": ""
             }
            },
            "type": "scatterpolargl"
           }
          ],
          "scatterternary": [
           {
            "marker": {
             "colorbar": {
              "outlinewidth": 0,
              "ticks": ""
             }
            },
            "type": "scatterternary"
           }
          ],
          "surface": [
           {
            "colorbar": {
             "outlinewidth": 0,
             "ticks": ""
            },
            "colorscale": [
             [
              0,
              "#0d0887"
             ],
             [
              0.1111111111111111,
              "#46039f"
             ],
             [
              0.2222222222222222,
              "#7201a8"
             ],
             [
              0.3333333333333333,
              "#9c179e"
             ],
             [
              0.4444444444444444,
              "#bd3786"
             ],
             [
              0.5555555555555556,
              "#d8576b"
             ],
             [
              0.6666666666666666,
              "#ed7953"
             ],
             [
              0.7777777777777778,
              "#fb9f3a"
             ],
             [
              0.8888888888888888,
              "#fdca26"
             ],
             [
              1,
              "#f0f921"
             ]
            ],
            "type": "surface"
           }
          ],
          "table": [
           {
            "cells": {
             "fill": {
              "color": "#EBF0F8"
             },
             "line": {
              "color": "white"
             }
            },
            "header": {
             "fill": {
              "color": "#C8D4E3"
             },
             "line": {
              "color": "white"
             }
            },
            "type": "table"
           }
          ]
         },
         "layout": {
          "annotationdefaults": {
           "arrowcolor": "#2a3f5f",
           "arrowhead": 0,
           "arrowwidth": 1
          },
          "autotypenumbers": "strict",
          "coloraxis": {
           "colorbar": {
            "outlinewidth": 0,
            "ticks": ""
           }
          },
          "colorscale": {
           "diverging": [
            [
             0,
             "#8e0152"
            ],
            [
             0.1,
             "#c51b7d"
            ],
            [
             0.2,
             "#de77ae"
            ],
            [
             0.3,
             "#f1b6da"
            ],
            [
             0.4,
             "#fde0ef"
            ],
            [
             0.5,
             "#f7f7f7"
            ],
            [
             0.6,
             "#e6f5d0"
            ],
            [
             0.7,
             "#b8e186"
            ],
            [
             0.8,
             "#7fbc41"
            ],
            [
             0.9,
             "#4d9221"
            ],
            [
             1,
             "#276419"
            ]
           ],
           "sequential": [
            [
             0,
             "#0d0887"
            ],
            [
             0.1111111111111111,
             "#46039f"
            ],
            [
             0.2222222222222222,
             "#7201a8"
            ],
            [
             0.3333333333333333,
             "#9c179e"
            ],
            [
             0.4444444444444444,
             "#bd3786"
            ],
            [
             0.5555555555555556,
             "#d8576b"
            ],
            [
             0.6666666666666666,
             "#ed7953"
            ],
            [
             0.7777777777777778,
             "#fb9f3a"
            ],
            [
             0.8888888888888888,
             "#fdca26"
            ],
            [
             1,
             "#f0f921"
            ]
           ],
           "sequentialminus": [
            [
             0,
             "#0d0887"
            ],
            [
             0.1111111111111111,
             "#46039f"
            ],
            [
             0.2222222222222222,
             "#7201a8"
            ],
            [
             0.3333333333333333,
             "#9c179e"
            ],
            [
             0.4444444444444444,
             "#bd3786"
            ],
            [
             0.5555555555555556,
             "#d8576b"
            ],
            [
             0.6666666666666666,
             "#ed7953"
            ],
            [
             0.7777777777777778,
             "#fb9f3a"
            ],
            [
             0.8888888888888888,
             "#fdca26"
            ],
            [
             1,
             "#f0f921"
            ]
           ]
          },
          "colorway": [
           "#636efa",
           "#EF553B",
           "#00cc96",
           "#ab63fa",
           "#FFA15A",
           "#19d3f3",
           "#FF6692",
           "#B6E880",
           "#FF97FF",
           "#FECB52"
          ],
          "font": {
           "color": "#2a3f5f"
          },
          "geo": {
           "bgcolor": "white",
           "lakecolor": "white",
           "landcolor": "#E5ECF6",
           "showlakes": true,
           "showland": true,
           "subunitcolor": "white"
          },
          "hoverlabel": {
           "align": "left"
          },
          "hovermode": "closest",
          "mapbox": {
           "style": "light"
          },
          "paper_bgcolor": "white",
          "plot_bgcolor": "#E5ECF6",
          "polar": {
           "angularaxis": {
            "gridcolor": "white",
            "linecolor": "white",
            "ticks": ""
           },
           "bgcolor": "#E5ECF6",
           "radialaxis": {
            "gridcolor": "white",
            "linecolor": "white",
            "ticks": ""
           }
          },
          "scene": {
           "xaxis": {
            "backgroundcolor": "#E5ECF6",
            "gridcolor": "white",
            "gridwidth": 2,
            "linecolor": "white",
            "showbackground": true,
            "ticks": "",
            "zerolinecolor": "white"
           },
           "yaxis": {
            "backgroundcolor": "#E5ECF6",
            "gridcolor": "white",
            "gridwidth": 2,
            "linecolor": "white",
            "showbackground": true,
            "ticks": "",
            "zerolinecolor": "white"
           },
           "zaxis": {
            "backgroundcolor": "#E5ECF6",
            "gridcolor": "white",
            "gridwidth": 2,
            "linecolor": "white",
            "showbackground": true,
            "ticks": "",
            "zerolinecolor": "white"
           }
          },
          "shapedefaults": {
           "line": {
            "color": "#2a3f5f"
           }
          },
          "ternary": {
           "aaxis": {
            "gridcolor": "white",
            "linecolor": "white",
            "ticks": ""
           },
           "baxis": {
            "gridcolor": "white",
            "linecolor": "white",
            "ticks": ""
           },
           "bgcolor": "#E5ECF6",
           "caxis": {
            "gridcolor": "white",
            "linecolor": "white",
            "ticks": ""
           }
          },
          "title": {
           "x": 0.05
          },
          "xaxis": {
           "automargin": true,
           "gridcolor": "white",
           "linecolor": "white",
           "ticks": "",
           "title": {
            "standoff": 15
           },
           "zerolinecolor": "white",
           "zerolinewidth": 2
          },
          "yaxis": {
           "automargin": true,
           "gridcolor": "white",
           "linecolor": "white",
           "ticks": "",
           "title": {
            "standoff": 15
           },
           "zerolinecolor": "white",
           "zerolinewidth": 2
          }
         }
        }
       }
      },
      "image/png": "[encoded data removed]",
      "text/html": [
       "<div>                            <div id=\"19899955-d8d1-4544-b5b4-a8bb0bdb7bdd\" class=\"plotly-graph-div\" style=\"height:525px; width:100%;\"></div>            <script type=\"text/javascript\">                require([\"plotly\"], function(Plotly) {                    window.PLOTLYENV=window.PLOTLYENV || {};                                    if (document.getElementById(\"19899955-d8d1-4544-b5b4-a8bb0bdb7bdd\")) {                    Plotly.newPlot(                        \"19899955-d8d1-4544-b5b4-a8bb0bdb7bdd\",                        [{\"hovertemplate\":\"beta=%{x}<br>gamma=%{y}<br>LL=%{z}<extra></extra>\",\"legendgroup\":\"\",\"marker\":{\"color\":\"#636efa\",\"symbol\":\"circle\"},\"mode\":\"markers\",\"name\":\"\",\"scene\":\"scene\",\"showlegend\":false,\"x\":[0.01,0.01,0.01,0.01,0.01,0.01,0.01,0.01,0.01,0.01,0.01,0.01,0.01,0.01,0.01,0.01,0.01,0.01,0.01,0.02,0.02,0.02,0.02,0.02,0.02,0.02,0.02,0.02,0.02,0.02,0.02,0.02,0.02,0.02,0.02,0.02,0.02,0.02,0.03,0.03,0.03,0.03,0.03,0.03,0.03,0.03,0.03,0.03,0.03,0.03,0.03,0.03,0.03,0.03,0.03,0.03,0.03,0.04,0.04,0.04,0.04,0.04,0.04,0.04,0.04,0.04,0.04,0.04,0.04,0.04,0.04,0.04,0.04,0.04,0.04,0.04,0.05,0.05,0.05,0.05,0.05,0.05,0.05,0.05,0.05,0.05,0.05,0.05,0.05,0.05,0.05,0.05,0.05,0.05,0.05,0.060000000000000005,0.060000000000000005,0.060000000000000005,0.060000000000000005,0.060000000000000005,0.060000000000000005,0.060000000000000005,0.060000000000000005,0.060000000000000005,0.060000000000000005,0.060000000000000005,0.060000000000000005,0.060000000000000005,0.060000000000000005,0.060000000000000005,0.060000000000000005,0.060000000000000005,0.060000000000000005,0.060000000000000005,0.06999999999999999,0.06999999999999999,0.06999999999999999,0.06999999999999999,0.06999999999999999,0.06999999999999999,0.06999999999999999,0.06999999999999999,0.06999999999999999,0.06999999999999999,0.06999999999999999,0.06999999999999999,0.06999999999999999,0.06999999999999999,0.06999999999999999,0.06999999999999999,0.06999999999999999,0.06999999999999999,0.06999999999999999,0.08,0.08,0.08,0.08,0.08,0.08,0.08,0.08,0.08,0.08,0.08,0.08,0.08,0.08,0.08,0.08,0.08,0.08,0.08,0.09,0.09,0.09,0.09,0.09,0.09,0.09,0.09,0.09,0.09,0.09,0.09,0.09,0.09,0.09,0.09,0.09,0.09,0.09,0.09999999999999999,0.09999999999999999,0.09999999999999999,0.09999999999999999,0.09999999999999999,0.09999999999999999,0.09999999999999999,0.09999999999999999,0.09999999999999999,0.09999999999999999,0.09999999999999999,0.09999999999999999,0.09999999999999999,0.09999999999999999,0.09999999999999999,0.09999999999999999,0.09999999999999999,0.09999999999999999,0.09999999999999999,0.11,0.11,0.11,0.11,0.11,0.11,0.11,0.11,0.11,0.11,0.11,0.11,0.11,0.11,0.11,0.11,0.11,0.11,0.11,0.12,0.12,0.12,0.12,0.12,0.12,0.12,0.12,0.12,0.12,0.12,0.12,0.12,0.12,0.12,0.12,0.12,0.12,0.12,0.13,0.13,0.13,0.13,0.13,0.13,0.13,0.13,0.13,0.13,0.13,0.13,0.13,0.13,0.13,0.13,0.13,0.13,0.13,0.14,0.14,0.14,0.14,0.14,0.14,0.14,0.14,0.14,0.14,0.14,0.14,0.14,0.14,0.14,0.14,0.14,0.14,0.14,0.15000000000000002,0.15000000000000002,0.15000000000000002,0.15000000000000002,0.15000000000000002,0.15000000000000002,0.15000000000000002,0.15000000000000002,0.15000000000000002,0.15000000000000002,0.15000000000000002,0.15000000000000002,0.15000000000000002,0.15000000000000002,0.15000000000000002,0.15000000000000002,0.15000000000000002,0.15000000000000002,0.15000000000000002,0.16,0.16,0.16,0.16,0.16,0.16,0.16,0.16,0.16,0.16,0.16,0.16,0.16,0.16,0.16,0.16,0.16,0.16,0.16,0.17,0.17,0.17,0.17,0.17,0.17,0.17,0.17,0.17,0.17,0.17,0.17,0.17,0.17,0.17,0.17,0.17,0.17,0.17,0.18000000000000002,0.18000000000000002,0.18000000000000002,0.18000000000000002,0.18000000000000002,0.18000000000000002,0.18000000000000002,0.18000000000000002,0.18000000000000002,0.18000000000000002,0.18000000000000002,0.18000000000000002,0.18000000000000002,0.18000000000000002,0.18000000000000002,0.18000000000000002,0.18000000000000002,0.18000000000000002,0.18000000000000002,0.19,0.19,0.19,0.19,0.19,0.19,0.19,0.19,0.19,0.19,0.19,0.19,0.19,0.19,0.19,0.19,0.19,0.19,0.19],\"y\":[0.01,0.02,0.03,0.04,0.05,0.060000000000000005,0.06999999999999999,0.08,0.09,0.09999999999999999,0.11,0.12,0.13,0.14,0.15000000000000002,0.16,0.17,0.18000000000000002,0.19,0.01,0.02,0.03,0.04,0.05,0.060000000000000005,0.06999999999999999,0.08,0.09,0.09999999999999999,0.11,0.12,0.13,0.14,0.15000000000000002,0.16,0.17,0.18000000000000002,0.19,0.01,0.02,0.03,0.04,0.05,0.060000000000000005,0.06999999999999999,0.08,0.09,0.09999999999999999,0.11,0.12,0.13,0.14,0.15000000000000002,0.16,0.17,0.18000000000000002,0.19,0.01,0.02,0.03,0.04,0.05,0.060000000000000005,0.06999999999999999,0.08,0.09,0.09999999999999999,0.11,0.12,0.13,0.14,0.15000000000000002,0.16,0.17,0.18000000000000002,0.19,0.01,0.02,0.03,0.04,0.05,0.060000000000000005,0.06999999999999999,0.08,0.09,0.09999999999999999,0.11,0.12,0.13,0.14,0.15000000000000002,0.16,0.17,0.18000000000000002,0.19,0.01,0.02,0.03,0.04,0.05,0.060000000000000005,0.06999999999999999,0.08,0.09,0.09999999999999999,0.11,0.12,0.13,0.14,0.15000000000000002,0.16,0.17,0.18000000000000002,0.19,0.01,0.02,0.03,0.04,0.05,0.060000000000000005,0.06999999999999999,0.08,0.09,0.09999999999999999,0.11,0.12,0.13,0.14,0.15000000000000002,0.16,0.17,0.18000000000000002,0.19,0.01,0.02,0.03,0.04,0.05,0.060000000000000005,0.06999999999999999,0.08,0.09,0.09999999999999999,0.11,0.12,0.13,0.14,0.15000000000000002,0.16,0.17,0.18000000000000002,0.19,0.01,0.02,0.03,0.04,0.05,0.060000000000000005,0.06999999999999999,0.08,0.09,0.09999999999999999,0.11,0.12,0.13,0.14,0.15000000000000002,0.16,0.17,0.18000000000000002,0.19,0.01,0.02,0.03,0.04,0.05,0.060000000000000005,0.06999999999999999,0.08,0.09,0.09999999999999999,0.11,0.12,0.13,0.14,0.15000000000000002,0.16,0.17,0.18000000000000002,0.19,0.01,0.02,0.03,0.04,0.05,0.060000000000000005,0.06999999999999999,0.08,0.09,0.09999999999999999,0.11,0.12,0.13,0.14,0.15000000000000002,0.16,0.17,0.18000000000000002,0.19,0.01,0.02,0.03,0.04,0.05,0.060000000000000005,0.06999999999999999,0.08,0.09,0.09999999999999999,0.11,0.12,0.13,0.14,0.15000000000000002,0.16,0.17,0.18000000000000002,0.19,0.01,0.02,0.03,0.04,0.05,0.060000000000000005,0.06999999999999999,0.08,0.09,0.09999999999999999,0.11,0.12,0.13,0.14,0.15000000000000002,0.16,0.17,0.18000000000000002,0.19,0.01,0.02,0.03,0.04,0.05,0.060000000000000005,0.06999999999999999,0.08,0.09,0.09999999999999999,0.11,0.12,0.13,0.14,0.15000000000000002,0.16,0.17,0.18000000000000002,0.19,0.01,0.02,0.03,0.04,0.05,0.060000000000000005,0.06999999999999999,0.08,0.09,0.09999999999999999,0.11,0.12,0.13,0.14,0.15000000000000002,0.16,0.17,0.18000000000000002,0.19,0.01,0.02,0.03,0.04,0.05,0.060000000000000005,0.06999999999999999,0.08,0.09,0.09999999999999999,0.11,0.12,0.13,0.14,0.15000000000000002,0.16,0.17,0.18000000000000002,0.19,0.01,0.02,0.03,0.04,0.05,0.060000000000000005,0.06999999999999999,0.08,0.09,0.09999999999999999,0.11,0.12,0.13,0.14,0.15000000000000002,0.16,0.17,0.18000000000000002,0.19,0.01,0.02,0.03,0.04,0.05,0.060000000000000005,0.06999999999999999,0.08,0.09,0.09999999999999999,0.11,0.12,0.13,0.14,0.15000000000000002,0.16,0.17,0.18000000000000002,0.19,0.01,0.02,0.03,0.04,0.05,0.060000000000000005,0.06999999999999999,0.08,0.09,0.09999999999999999,0.11,0.12,0.13,0.14,0.15000000000000002,0.16,0.17,0.18000000000000002,0.19],\"z\":[-34.280482489012954,-34.36212293718418,-34.44496765635891,-34.5289866607982,-34.61415005588267,-34.700429459553554,-34.787796080326096,-34.87622184462247,-34.96567931259943,-35.056142119509204,-35.147582668046624,-35.23997539706582,-35.333294720074356,-35.42751708768337,-35.522617018401675,-35.61857096965734,-35.71535550780558,-35.81294839716015,-35.91132728369797,-31.351202911716065,-31.365514512121546,-31.38197678761706,-31.40056755816026,-31.42126395677804,-31.44404260800051,-31.46887964723542,-31.495750583167624,-31.524631042344783,-31.555495493648067,-31.588318329181945,-31.623073458461015,-31.659735378250268,-31.698274026243112,-31.738665858675166,-31.78088216184287,-31.824895004994243,-31.87067707316503,-31.918199525227656,-31.595609228202523,-31.542028832725904,-31.49101322891357,-31.44253443602615,-31.396565282823413,-31.35308172269369,-31.31205948487112,-31.273476314454026,-31.237310844299362,-31.20354260002596,-31.17215191947709,-31.143119642214234,-31.116427721516903,-31.092058058103035,-31.069993160118784,-31.050215626192884,-31.032708312222976,-31.01745439586043,-31.004437012517528,-33.642830373288675,-33.52455885943942,-33.409569342894464,-33.29778279942117,-33.189125209129294,-33.08352725557182,-32.98092419534961,-32.88125537456304,-32.784464022356524,-32.6904973852813,-32.59930587212853,-32.51084324023531,-32.42506630778964,-32.34193472802063,-32.26141078203952,-32.18345923629856,-32.10804714586871,-32.035143689327235,-31.96472000868647,-36.83370738646683,-36.65070482950701,-36.472316231381015,-36.298381383390605,-36.12874869300739,-35.96327488607104,-35.801824071567026,-35.644267864751995,-35.490484656120394,-35.340360377932186,-35.19378632343944,-35.05066073968805,-34.910887599129886,-34.77437647756889,-34.64104193719098,-34.51080454555335,-34.383588779869136,-34.25932380142819,-34.13794354187736,-40.71505190192041,-40.46393732985669,-40.21940501982169,-39.981199921668505,-39.74908011171726,-39.52281350604277,-39.30217856311056,-39.086963714112564,-38.876967102005686,-38.67199622981675,-38.47186755142579,-38.27640632371341,-38.08544613375553,-37.89882863549593,-37.7164032630257,-37.53802691542046,-37.36356355894964,-37.19288442990321,-37.02586691316395,-44.99114648302281,-44.66599765532189,-44.34987870864345,-44.042440202890724,-43.74334733860191,-43.45227832669662,-43.16892284889952,-42.89298390758844,-42.62417595158112,-42.362224944914914,-42.106867945377445,-41.857852864501105,-41.61493798900122,-41.377891704319765,-41.14649217916437,-40.92052702525869,-40.6997928105222,-40.48409548665028,-40.27324872037864,-49.488979149165,-49.083099992583584,-48.68900442915343,-48.306248372768124,-47.93440748431499,-47.57307469230105,-47.22184930322487,-46.8803521177207,-46.548214943401746,-46.22508397601642,-45.910617684452774,-45.604488654443315,-45.306380001895,-45.01598764776326,-44.73301884026297,-44.4571920737956,-44.18823650218096,-43.925891751214145,-43.669908177559456,-54.11312798346303,-53.620249513640886,-53.142092669518654,-52.67811951584883,-52.22781512297046,-51.790686475656784,-51.36624815258398,-50.954039854178475,-50.553614177364594,-50.16453752064261,-49.78639292781437,-49.418778226905424,-49.06130488402113,-48.71359721810063,-48.375295274129854,-48.04604941277161,-47.72552332853907,-47.413392804892844,-47.10934550410766,-58.81196367980294,-58.2267668546958,-57.659318889635635,-57.10901256246823,-56.575238267795086,-56.05741457140145,-55.554974028487194,-55.06737035084852,-54.59408340724088,-54.13460139550164,-53.68843147515674,-53.25509890648045,-52.834144577622176,-52.42512802223271,-52.02761472342368,-51.641193301849384,-51.26546362284611,-50.900039376593455,-50.5445461543202,-63.557251652094976,-62.875407006789715,-62.21443417445114,-61.57361484115953,-60.95225239405666,-60.34968618914176,-59.765249850921066,-59.198327067664664,-58.648314989280806,-58.11463089993905,-57.596692643053316,-57.09397087962391,-56.605921795806914,-56.132043462278894,-55.67183720330696,-55.224831129767004,-54.79055073996942,-54.36855987553116,-53.95841971034677,-68.33308944904309,-67.55119729176063,-66.7933333879072,-66.0586853420857,-65.34646505637966,-64.65591123783096,-63.98629260497202,-63.33690173264886,-62.707041093833716,-62.09605982811976,-61.50331186068499,-60.92817822520578,-60.37005865538791,-59.82837205214144,-59.30256780109778,-58.79208388555024,-58.296411854450405,-57.815047562937515,-57.34748537294819,-73.1302257985149,-72.24562116877355,-71.38824044381789,-70.55716975161897,-69.75152826512578,-68.97046260051441,-68.21314930145577,-67.47879636853646,-66.76663881662954,-66.07592726149568,-65.405945553327,-64.75599438292727,-64.12541762376131,-63.513561087711196,-62.91979598822994,-62.34351681664187,-61.78413821755449,-61.24109106781619,-60.71382563939588,-77.94310933409616,-76.95371341776357,-75.99476616822535,-75.06524791181714,-74.1641839041312,-73.29063214781203,-72.44367126852597,-71.62242424336308,-70.82603794937232,-70.05369265128166,-69.30458712756044,-68.57795409814852,-67.87304034192107,-67.18914794507359,-66.52557441543827,-65.88164807932985,-65.256719120555,-64.65016705061824,-64.06136886983636,-82.76826803099831,-81.67244422837372,-80.6103269064898,-79.58079839054956,-78.5827459933755,-77.61517533233312,-76.67704915396648,-75.76740153500234,-74.88529623545179,-74.02983213826816,-73.20013136807354,-72.3953491085321,-71.6146553434428,-70.85727815210856,-70.12244731998084,-69.40942858449414,-68.71750965404148,-68.04599898537337,-67.39423207676093,-87.60339717658549,-86.3998788588806,-85.23334139114087,-84.10256809731173,-83.00632367563735,-81.94352453840202,-80.91305653626138,-79.91383764908907,-78.94486590152194,-78.00513206687066,-77.0936932391684,-76.2096253243065,-75.35202609297336,-74.52004319518532,-73.71283673999051,-72.92959834203914,-72.16956536983433,-71.43198471745056,-70.71611689913043,-92.4469633171499,-91.13470583589813,-89.86276075385197,-88.62973808136897,-87.43439788992534,-86.27544486153323,-85.15170206161534,-84.06201359690445,-83.00524987713136,-81.98037059164072,-80.98631380221482,-80.0220650363742,-79.08669906621368,-78.17921952546,-77.29876954911596,-76.4444675524677,-75.61544234846428,-74.81091366884093,-74.03008113713585,-97.29791138745523,-95.87609000490927,-94.49784520449211,-93.16182031660738,-91.86657804735034,-90.61073923193273,-89.39299544467342,-88.2121278924004,-87.06690066449212,-85.95617578372504,-84.87881413183538,-83.83373484378174,-82.8198785658258,-81.83625965821234,-80.88188896669281,-79.95582927425676,-79.05716488860821,-78.18502664321105,-77.33854567070959,-102.15582102031415,-100.62336206931892,-99.1382833320638,-97.69852434611133,-96.30278165693993,-94.94932543050388,-93.63703256727271,-92.36440855656619,-91.13012482184554,-89.93302589369432,-88.77186821229898,-87.64539941226117,-86.55257538467313,-85.49226239012157,-84.46345915907726,-83.46512594717002,-82.49629211474569,-81.55601182869138,-80.64338295966223],\"type\":\"scatter3d\"}],                        {\"template\":{\"data\":{\"histogram2dcontour\":[{\"type\":\"histogram2dcontour\",\"colorbar\":{\"outlinewidth\":0,\"ticks\":\"\"},\"colorscale\":[[0.0,\"#0d0887\"],[0.1111111111111111,\"#46039f\"],[0.2222222222222222,\"#7201a8\"],[0.3333333333333333,\"#9c179e\"],[0.4444444444444444,\"#bd3786\"],[0.5555555555555556,\"#d8576b\"],[0.6666666666666666,\"#ed7953\"],[0.7777777777777778,\"#fb9f3a\"],[0.8888888888888888,\"#fdca26\"],[1.0,\"#f0f921\"]]}],\"choropleth\":[{\"type\":\"choropleth\",\"colorbar\":{\"outlinewidth\":0,\"ticks\":\"\"}}],\"histogram2d\":[{\"type\":\"histogram2d\",\"colorbar\":{\"outlinewidth\":0,\"ticks\":\"\"},\"colorscale\":[[0.0,\"#0d0887\"],[0.1111111111111111,\"#46039f\"],[0.2222222222222222,\"#7201a8\"],[0.3333333333333333,\"#9c179e\"],[0.4444444444444444,\"#bd3786\"],[0.5555555555555556,\"#d8576b\"],[0.6666666666666666,\"#ed7953\"],[0.7777777777777778,\"#fb9f3a\"],[0.8888888888888888,\"#fdca26\"],[1.0,\"#f0f921\"]]}],\"heatmap\":[{\"type\":\"heatmap\",\"colorbar\":{\"outlinewidth\":0,\"ticks\":\"\"},\"colorscale\":[[0.0,\"#0d0887\"],[0.1111111111111111,\"#46039f\"],[0.2222222222222222,\"#7201a8\"],[0.3333333333333333,\"#9c179e\"],[0.4444444444444444,\"#bd3786\"],[0.5555555555555556,\"#d8576b\"],[0.6666666666666666,\"#ed7953\"],[0.7777777777777778,\"#fb9f3a\"],[0.8888888888888888,\"#fdca26\"],[1.0,\"#f0f921\"]]}],\"heatmapgl\":[{\"type\":\"heatmapgl\",\"colorbar\":{\"outlinewidth\":0,\"ticks\":\"\"},\"colorscale\":[[0.0,\"#0d0887\"],[0.1111111111111111,\"#46039f\"],[0.2222222222222222,\"#7201a8\"],[0.3333333333333333,\"#9c179e\"],[0.4444444444444444,\"#bd3786\"],[0.5555555555555556,\"#d8576b\"],[0.6666666666666666,\"#ed7953\"],[0.7777777777777778,\"#fb9f3a\"],[0.8888888888888888,\"#fdca26\"],[1.0,\"#f0f921\"]]}],\"contourcarpet\":[{\"type\":\"contourcarpet\",\"colorbar\":{\"outlinewidth\":0,\"ticks\":\"\"}}],\"contour\":[{\"type\":\"contour\",\"colorbar\":{\"outlinewidth\":0,\"ticks\":\"\"},\"colorscale\":[[0.0,\"#0d0887\"],[0.1111111111111111,\"#46039f\"],[0.2222222222222222,\"#7201a8\"],[0.3333333333333333,\"#9c179e\"],[0.4444444444444444,\"#bd3786\"],[0.5555555555555556,\"#d8576b\"],[0.6666666666666666,\"#ed7953\"],[0.7777777777777778,\"#fb9f3a\"],[0.8888888888888888,\"#fdca26\"],[1.0,\"#f0f921\"]]}],\"surface\":[{\"type\":\"surface\",\"colorbar\":{\"outlinewidth\":0,\"ticks\":\"\"},\"colorscale\":[[0.0,\"#0d0887\"],[0.1111111111111111,\"#46039f\"],[0.2222222222222222,\"#7201a8\"],[0.3333333333333333,\"#9c179e\"],[0.4444444444444444,\"#bd3786\"],[0.5555555555555556,\"#d8576b\"],[0.6666666666666666,\"#ed7953\"],[0.7777777777777778,\"#fb9f3a\"],[0.8888888888888888,\"#fdca26\"],[1.0,\"#f0f921\"]]}],\"mesh3d\":[{\"type\":\"mesh3d\",\"colorbar\":{\"outlinewidth\":0,\"ticks\":\"\"}}],\"scatter\":[{\"fillpattern\":{\"fillmode\":\"overlay\",\"size\":10,\"solidity\":0.2},\"type\":\"scatter\"}],\"parcoords\":[{\"type\":\"parcoords\",\"line\":{\"colorbar\":{\"outlinewidth\":0,\"ticks\":\"\"}}}],\"scatterpolargl\":[{\"type\":\"scatterpolargl\",\"marker\":{\"colorbar\":{\"outlinewidth\":0,\"ticks\":\"\"}}}],\"bar\":[{\"error_x\":{\"color\":\"#2a3f5f\"},\"error_y\":{\"color\":\"#2a3f5f\"},\"marker\":{\"line\":{\"color\":\"#E5ECF6\",\"width\":0.5},\"pattern\":{\"fillmode\":\"overlay\",\"size\":10,\"solidity\":0.2}},\"type\":\"bar\"}],\"scattergeo\":[{\"type\":\"scattergeo\",\"marker\":{\"colorbar\":{\"outlinewidth\":0,\"ticks\":\"\"}}}],\"scatterpolar\":[{\"type\":\"scatterpolar\",\"marker\":{\"colorbar\":{\"outlinewidth\":0,\"ticks\":\"\"}}}],\"histogram\":[{\"marker\":{\"pattern\":{\"fillmode\":\"overlay\",\"size\":10,\"solidity\":0.2}},\"type\":\"histogram\"}],\"scattergl\":[{\"type\":\"scattergl\",\"marker\":{\"colorbar\":{\"outlinewidth\":0,\"ticks\":\"\"}}}],\"scatter3d\":[{\"type\":\"scatter3d\",\"line\":{\"colorbar\":{\"outlinewidth\":0,\"ticks\":\"\"}},\"marker\":{\"colorbar\":{\"outlinewidth\":0,\"ticks\":\"\"}}}],\"scattermapbox\":[{\"type\":\"scattermapbox\",\"marker\":{\"colorbar\":{\"outlinewidth\":0,\"ticks\":\"\"}}}],\"scatterternary\":[{\"type\":\"scatterternary\",\"marker\":{\"colorbar\":{\"outlinewidth\":0,\"ticks\":\"\"}}}],\"scattercarpet\":[{\"type\":\"scattercarpet\",\"marker\":{\"colorbar\":{\"outlinewidth\":0,\"ticks\":\"\"}}}],\"carpet\":[{\"aaxis\":{\"endlinecolor\":\"#2a3f5f\",\"gridcolor\":\"white\",\"linecolor\":\"white\",\"minorgridcolor\":\"white\",\"startlinecolor\":\"#2a3f5f\"},\"baxis\":{\"endlinecolor\":\"#2a3f5f\",\"gridcolor\":\"white\",\"linecolor\":\"white\",\"minorgridcolor\":\"white\",\"startlinecolor\":\"#2a3f5f\"},\"type\":\"carpet\"}],\"table\":[{\"cells\":{\"fill\":{\"color\":\"#EBF0F8\"},\"line\":{\"color\":\"white\"}},\"header\":{\"fill\":{\"color\":\"#C8D4E3\"},\"line\":{\"color\":\"white\"}},\"type\":\"table\"}],\"barpolar\":[{\"marker\":{\"line\":{\"color\":\"#E5ECF6\",\"width\":0.5},\"pattern\":{\"fillmode\":\"overlay\",\"size\":10,\"solidity\":0.2}},\"type\":\"barpolar\"}],\"pie\":[{\"automargin\":true,\"type\":\"pie\"}]},\"layout\":{\"autotypenumbers\":\"strict\",\"colorway\":[\"#636efa\",\"#EF553B\",\"#00cc96\",\"#ab63fa\",\"#FFA15A\",\"#19d3f3\",\"#FF6692\",\"#B6E880\",\"#FF97FF\",\"#FECB52\"],\"font\":{\"color\":\"#2a3f5f\"},\"hovermode\":\"closest\",\"hoverlabel\":{\"align\":\"left\"},\"paper_bgcolor\":\"white\",\"plot_bgcolor\":\"#E5ECF6\",\"polar\":{\"bgcolor\":\"#E5ECF6\",\"angularaxis\":{\"gridcolor\":\"white\",\"linecolor\":\"white\",\"ticks\":\"\"},\"radialaxis\":{\"gridcolor\":\"white\",\"linecolor\":\"white\",\"ticks\":\"\"}},\"ternary\":{\"bgcolor\":\"#E5ECF6\",\"aaxis\":{\"gridcolor\":\"white\",\"linecolor\":\"white\",\"ticks\":\"\"},\"baxis\":{\"gridcolor\":\"white\",\"linecolor\":\"white\",\"ticks\":\"\"},\"caxis\":{\"gridcolor\":\"white\",\"linecolor\":\"white\",\"ticks\":\"\"}},\"coloraxis\":{\"colorbar\":{\"outlinewidth\":0,\"ticks\":\"\"}},\"colorscale\":{\"sequential\":[[0.0,\"#0d0887\"],[0.1111111111111111,\"#46039f\"],[0.2222222222222222,\"#7201a8\"],[0.3333333333333333,\"#9c179e\"],[0.4444444444444444,\"#bd3786\"],[0.5555555555555556,\"#d8576b\"],[0.6666666666666666,\"#ed7953\"],[0.7777777777777778,\"#fb9f3a\"],[0.8888888888888888,\"#fdca26\"],[1.0,\"#f0f921\"]],\"sequentialminus\":[[0.0,\"#0d0887\"],[0.1111111111111111,\"#46039f\"],[0.2222222222222222,\"#7201a8\"],[0.3333333333333333,\"#9c179e\"],[0.4444444444444444,\"#bd3786\"],[0.5555555555555556,\"#d8576b\"],[0.6666666666666666,\"#ed7953\"],[0.7777777777777778,\"#fb9f3a\"],[0.8888888888888888,\"#fdca26\"],[1.0,\"#f0f921\"]],\"diverging\":[[0,\"#8e0152\"],[0.1,\"#c51b7d\"],[0.2,\"#de77ae\"],[0.3,\"#f1b6da\"],[0.4,\"#fde0ef\"],[0.5,\"#f7f7f7\"],[0.6,\"#e6f5d0\"],[0.7,\"#b8e186\"],[0.8,\"#7fbc41\"],[0.9,\"#4d9221\"],[1,\"#276419\"]]},\"xaxis\":{\"gridcolor\":\"white\",\"linecolor\":\"white\",\"ticks\":\"\",\"title\":{\"standoff\":15},\"zerolinecolor\":\"white\",\"automargin\":true,\"zerolinewidth\":2},\"yaxis\":{\"gridcolor\":\"white\",\"linecolor\":\"white\",\"ticks\":\"\",\"title\":{\"standoff\":15},\"zerolinecolor\":\"white\",\"automargin\":true,\"zerolinewidth\":2},\"scene\":{\"xaxis\":{\"backgroundcolor\":\"#E5ECF6\",\"gridcolor\":\"white\",\"linecolor\":\"white\",\"showbackground\":true,\"ticks\":\"\",\"zerolinecolor\":\"white\",\"gridwidth\":2},\"yaxis\":{\"backgroundcolor\":\"#E5ECF6\",\"gridcolor\":\"white\",\"linecolor\":\"white\",\"showbackground\":true,\"ticks\":\"\",\"zerolinecolor\":\"white\",\"gridwidth\":2},\"zaxis\":{\"backgroundcolor\":\"#E5ECF6\",\"gridcolor\":\"white\",\"linecolor\":\"white\",\"showbackground\":true,\"ticks\":\"\",\"zerolinecolor\":\"white\",\"gridwidth\":2}},\"shapedefaults\":{\"line\":{\"color\":\"#2a3f5f\"}},\"annotationdefaults\":{\"arrowcolor\":\"#2a3f5f\",\"arrowhead\":0,\"arrowwidth\":1},\"geo\":{\"bgcolor\":\"white\",\"landcolor\":\"#E5ECF6\",\"subunitcolor\":\"white\",\"showland\":true,\"showlakes\":true,\"lakecolor\":\"white\"},\"title\":{\"x\":0.05},\"mapbox\":{\"style\":\"light\"}}},\"scene\":{\"domain\":{\"x\":[0.0,1.0],\"y\":[0.0,1.0]},\"xaxis\":{\"title\":{\"text\":\"beta\"}},\"yaxis\":{\"title\":{\"text\":\"gamma\"}},\"zaxis\":{\"title\":{\"text\":\"LL\"}}},\"legend\":{\"tracegroupgap\":0},\"margin\":{\"t\":60}},                        {\"responsive\": true}                    ).then(function(){\n",
       "                            \n",
       "var gd = document.getElementById('19899955-d8d1-4544-b5b4-a8bb0bdb7bdd');\n",
       "var x = new MutationObserver(function (mutations, observer) {{\n",
       "        var display = window.getComputedStyle(gd).display;\n",
       "        if (!display || display === 'none') {{\n",
       "            console.log([gd, 'removed!']);\n",
       "            Plotly.purge(gd);\n",
       "            observer.disconnect();\n",
       "        }}\n",
       "}});\n",
       "\n",
       "// Listen for the removal of the full notebook cells\n",
       "var notebookContainer = gd.closest('#notebook-container');\n",
       "if (notebookContainer) {{\n",
       "    x.observe(notebookContainer, {childList: true});\n",
       "}}\n",
       "\n",
       "// Listen for the clearing of the current output cell\n",
       "var outputEl = gd.closest('.output');\n",
       "if (outputEl) {{\n",
       "    x.observe(outputEl, {childList: true});\n",
       "}}\n",
       "\n",
       "                        })                };                });            </script>        </div>"
      ]
     },
     "metadata": {},
     "output_type": "display_data"
    }
   ],
   "source": [
    "gendata = np.array(gendat)\n",
    "# creating a dataframe\n",
    "import pandas as pd\n",
    "dict = {'beta': gendata[0,:], 'gamma': gendata[1,:], 'LL': gendata[2,:]} \n",
    "gendf = pd.DataFrame(dict)\n",
    "\n",
    "# plotting\n",
    "import plotly.express as px\n",
    "# Plotting the figure\n",
    "fig = px.scatter_3d(gendf, x = 'beta',\n",
    "                    y = 'gamma',\n",
    "                    z = 'LL',)\n",
    " \n",
    "fig.show()"
   ]
  },
  {
   "cell_type": "code",
   "execution_count": null,
   "id": "c0817a1f-bf56-46ab-b3b3-27f20942fc3f",
   "metadata": {},
   "outputs": [],
   "source": []
  }
 ],
 "metadata": {
  "kernelspec": {
   "display_name": "Python 3 (ipykernel)",
   "language": "python",
   "name": "python3"
  },
  "language_info": {
   "codemirror_mode": {
    "name": "ipython",
    "version": 3
   },
   "file_extension": ".py",
   "mimetype": "text/x-python",
   "name": "python",
   "nbconvert_exporter": "python",
   "pygments_lexer": "ipython3",
   "version": "3.9.7"
  }
 },
 "nbformat": 4,
 "nbformat_minor": 5
}
